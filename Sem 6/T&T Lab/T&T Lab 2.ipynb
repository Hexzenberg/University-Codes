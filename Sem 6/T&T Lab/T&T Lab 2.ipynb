{
 "cells": [
  {
   "cell_type": "markdown",
   "id": "89830474",
   "metadata": {},
   "source": [
    "#Declare variables with meaningful identifiers, assign values, and explore constants and literals.\n",
    "\n",
    "- Variables should have relevant names so that the reader or tester can easily understand the correct motive the variable was intended to use for.\n",
    "- Assign values just by '='!\n",
    "- Constants are named in all capitals and should not be changed later on as they are intended to be used in their declared way only.\n",
    "- Literals are the variables that have their own values fixed in their data type."
   ]
  },
  {
   "cell_type": "code",
   "execution_count": 26,
   "id": "17fb4534",
   "metadata": {},
   "outputs": [
    {
     "name": "stdout",
     "output_type": "stream",
     "text": [
      "Name: John\n",
      "Age: 25\n",
      "Height: 1.75\n",
      "Is Student? True\n",
      "List variable  [1, 2, 3]\n",
      "Tuple variable  ('apple', 'banana', 'cherry')\n",
      "Dictionary variable name\t John \n",
      "Dictionary variable age  36\n",
      "Set variable  {'banana', 'cherry', 'apple'}\n",
      "Range variable  range(0, 6)\n",
      "Value of PI: 3.14159\n",
      "Days in a week: 7\n",
      "Literal Integer: 42\n",
      "Literal Float: 3.14\n",
      "Literal String: Hello, World!\n",
      "Literal Boolean: True\n",
      "No\n"
     ]
    }
   ],
   "source": [
    "# Declare variables with meaningful identifiers\n",
    "name = \"John\"\n",
    "age = 25\n",
    "height = 1.75\n",
    "is_student = True\n",
    "list_variable = [1, 2, 3]\n",
    "tuple_variable = (\"apple\", \"banana\", \"cherry\")\n",
    "dict_variable = {\"name\" : \"John\", \"age\" : 36}\n",
    "set_variable = set((\"apple\", \"banana\", \"cherry\"))\n",
    "range_variable = range(6)\n",
    "\n",
    "# Assign values and explore constants and literals\n",
    "PI = 3.14159  # Constant\n",
    "days_in_a_week = 7  # Constant\n",
    "\n",
    "# Explore literals\n",
    "literal_integer = 42\n",
    "literal_float = 3.14\n",
    "literal_string = \"Hello, World!\"\n",
    "literal_boolean = True\n",
    "\n",
    "# Display the values\n",
    "print(\"Name:\", name)\n",
    "print(\"Age:\", age)\n",
    "print(\"Height:\", height)\n",
    "print(\"Is Student?\", is_student)\n",
    "print('List variable ', list_variable)\n",
    "print('Tuple variable ', tuple_variable)\n",
    "print('Dictionary variable name\\t', dict_variable[\"name\"], '\\nDictionary variable age ', dict_variable[\"age\"])\n",
    "print('Set variable ', set_variable)\n",
    "print('Range variable ', range_variable)\n",
    "\n",
    "# Display constants\n",
    "print(\"Value of PI:\", PI)\n",
    "print(\"Days in a week:\", days_in_a_week)\n",
    "\n",
    "# Display literals\n",
    "print(\"Literal Integer:\", literal_integer)\n",
    "print(\"Literal Float:\", literal_float)\n",
    "print(\"Literal String:\", literal_string)\n",
    "print(\"Literal Boolean:\", literal_boolean)\n",
    "\n",
    "#Ternary Operator\n",
    "print( 'Yes' if 1 > 2 else 'No')\n"
   ]
  },
  {
   "cell_type": "markdown",
   "id": "1f934351",
   "metadata": {},
   "source": [
    "#Add comments to your code to provide explanations and improve readability.\n",
    "\n",
    "- Adding comments often tell us the functionality of the code better than just plain code also we can mention any proposed changes that are to be made to the code.\n",
    "\n",
    "#Use the input() function to get user input and print() function for output.\n",
    "\n",
    "- Predefined functions for input and output of python language."
   ]
  },
  {
   "cell_type": "code",
   "execution_count": 6,
   "id": "84edfa14",
   "metadata": {},
   "outputs": [
    {
     "name": "stdout",
     "output_type": "stream",
     "text": [
      "Enter the first number 2\n",
      "Enter the second number 3\n",
      "The sum of the numbers:  5\n"
     ]
    }
   ],
   "source": [
    "#Declaring the numbers that will be taken as input\n",
    "number_1 = int(input('Enter the first number '))\n",
    "number_2 = int(input('Enter the second number '))\n",
    "\n",
    "#Declaring the variable that will store the sum of the two numbers\n",
    "sum = number_1 + number_2\n",
    "\n",
    "#Printing the sum\n",
    "print('The sum of the numbers: ', sum)"
   ]
  },
  {
   "cell_type": "markdown",
   "id": "106f7cd7",
   "metadata": {},
   "source": [
    "#Explore different data types such as int, float, str, and bool.\n",
    "\n",
    "- Assigning the variables with corresponding values make them float or integer type."
   ]
  },
  {
   "cell_type": "code",
   "execution_count": 7,
   "id": "bd09a791",
   "metadata": {},
   "outputs": [
    {
     "name": "stdout",
     "output_type": "stream",
     "text": [
      "23\n",
      "12.5\n",
      "Nah Id win\n",
      "True\n"
     ]
    }
   ],
   "source": [
    "#Declaring the variables\n",
    "integer_variable = 23\n",
    "float_variable = 12.5\n",
    "string_variable = 'Nah Id win'\n",
    "bool_variable = True\n",
    "\n",
    "#Printing the values of the different types of variables\n",
    "print(integer_variable)\n",
    "print(float_variable)\n",
    "print(string_variable)\n",
    "print(bool_variable)"
   ]
  },
  {
   "cell_type": "markdown",
   "id": "9326a9d2",
   "metadata": {},
   "source": [
    "#Perform operations with numbers and explore type conversion.\n",
    "\n",
    "- The type conversion is done so that the variables of different types can also interact with each other and hence helps easy our burden to check if the variables are of the same type or not."
   ]
  },
  {
   "cell_type": "code",
   "execution_count": 8,
   "id": "f6ef8536",
   "metadata": {},
   "outputs": [
    {
     "name": "stdout",
     "output_type": "stream",
     "text": [
      "The sum of the two different data type variables is  35\n"
     ]
    }
   ],
   "source": [
    "#Declaring the variables\n",
    "integer_variable = 23\n",
    "float_variable = 12.3\n",
    "\n",
    "#Output using type conversion\n",
    "print('The sum of the two different data type variables is ', integer_variable + int(float_variable))"
   ]
  },
  {
   "cell_type": "markdown",
   "id": "bdba4854",
   "metadata": {},
   "source": [
    "#Use operators (+, -, *, /, //, %, **) to create expressions.\n",
    "\n",
    "- These expressions are the way to perform mathematical operation on numbers to manipulate data and result for our benefit."
   ]
  },
  {
   "cell_type": "code",
   "execution_count": 13,
   "id": "61484cb4",
   "metadata": {},
   "outputs": [
    {
     "name": "stdout",
     "output_type": "stream",
     "text": [
      "The operation +  12\n",
      "The operation -  8\n",
      "The operation *  20\n",
      "The operation /  5.0\n",
      "The operation //  5\n",
      "The operation %  0\n",
      "The operation **  100\n"
     ]
    }
   ],
   "source": [
    "#Declaring the variables \n",
    "number_1 = 10\n",
    "number_2 = 2\n",
    "\n",
    "#Creating the expressions\n",
    "Sum_expression = number_1 + number_2\n",
    "Difference_expression = number_1 - number_2\n",
    "Prod_expression = number_1 * number_2\n",
    "Div_expression = number_1 / number_2\n",
    "Sqr_root_expression = number_1 // number_2\n",
    "Remainder_expression = number_1 % number_2\n",
    "Pow_expression = number_1 ** number_2\n",
    "\n",
    "#Printing the operations\n",
    "print('The operation + ', Sum_expression)\n",
    "print('The operation - ', Difference_expression)\n",
    "print('The operation * ', Prod_expression)\n",
    "print('The operation / ', Div_expression)\n",
    "print('The operation // ', Sqr_root_expression)\n",
    "print('The operation % ', Remainder_expression)\n",
    "print('The operation ** ', Pow_expression)"
   ]
  }
 ],
 "metadata": {
  "kernelspec": {
   "display_name": "Python 3 (ipykernel)",
   "language": "python",
   "name": "python3"
  },
  "language_info": {
   "codemirror_mode": {
    "name": "ipython",
    "version": 3
   },
   "file_extension": ".py",
   "mimetype": "text/x-python",
   "name": "python",
   "nbconvert_exporter": "python",
   "pygments_lexer": "ipython3",
   "version": "3.10.9"
  }
 },
 "nbformat": 4,
 "nbformat_minor": 5
}
