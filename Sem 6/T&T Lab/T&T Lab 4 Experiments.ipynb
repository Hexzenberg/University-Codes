{
 "cells": [
  {
   "cell_type": "markdown",
   "id": "319ae449",
   "metadata": {},
   "source": [
    "Experiment-3: Write a program to create a set of user-defined functions to perform basic mathematical operations (addition, subtraction, multiplication, and division) and explore different ways of passing parameters to functions."
   ]
  },
  {
   "cell_type": "code",
   "execution_count": 1,
   "id": "272f72b7",
   "metadata": {},
   "outputs": [
    {
     "name": "stdout",
     "output_type": "stream",
     "text": [
      "Addition: 15\n",
      "Subtraction: 5\n",
      "Multiplication: 50\n",
      "Division: 2.0\n",
      "Addition: 15\n",
      "Subtraction: 5\n",
      "Multiplication: 50\n",
      "Division: 2.0\n",
      "Addition: 15\n",
      "Subtraction: 5\n",
      "Multiplication: 50\n",
      "Division: 2.0\n"
     ]
    }
   ],
   "source": [
    "# User-defined function for addition\n",
    "def add(x, y):\n",
    "    return x + y\n",
    "\n",
    "# User-defined function for subtraction\n",
    "def subtract(x, y):\n",
    "    return x - y\n",
    "\n",
    "# User-defined function for multiplication\n",
    "def multiply(x, y):\n",
    "    return x * y\n",
    "\n",
    "# User-defined function for division\n",
    "def divide(x, y):\n",
    "    if y != 0:\n",
    "        return x / y\n",
    "    else:\n",
    "        return \"Cannot divide by zero\"\n",
    "\n",
    "# Test the functions\n",
    "num1 = 10\n",
    "num2 = 5\n",
    "\n",
    "# Pass parameters explicitly\n",
    "result_add = add(num1, num2)\n",
    "result_subtract = subtract(num1, num2)\n",
    "result_multiply = multiply(num1, num2)\n",
    "result_divide = divide(num1, num2)\n",
    "\n",
    "print(\"Addition:\", result_add)\n",
    "print(\"Subtraction:\", result_subtract)\n",
    "print(\"Multiplication:\", result_multiply)\n",
    "print(\"Division:\", result_divide)\n",
    "\n",
    "# Pass parameters using unpacking of tuple\n",
    "params = (num1, num2)\n",
    "result_add = add(*params)\n",
    "result_subtract = subtract(*params)\n",
    "result_multiply = multiply(*params)\n",
    "result_divide = divide(*params)\n",
    "\n",
    "print(\"Addition:\", result_add)\n",
    "print(\"Subtraction:\", result_subtract)\n",
    "print(\"Multiplication:\", result_multiply)\n",
    "print(\"Division:\", result_divide)\n",
    "\n",
    "# Pass parameters using unpacking of dictionary\n",
    "params_dict = {'x': num1, 'y': num2}\n",
    "result_add = add(**params_dict)\n",
    "result_subtract = subtract(**params_dict)\n",
    "result_multiply = multiply(**params_dict)\n",
    "result_divide = divide(**params_dict)\n",
    "\n",
    "print(\"Addition:\", result_add)\n",
    "print(\"Subtraction:\", result_subtract)\n",
    "print(\"Multiplication:\", result_multiply)\n",
    "print(\"Division:\", result_divide)"
   ]
  },
  {
   "cell_type": "markdown",
   "id": "11d30674",
   "metadata": {},
   "source": [
    "Experiment-4: Create simple lambda functions for basic operations like addition, subtraction, multiplication, and division.\n",
    " Use lambda functions with built-in functions like filter() to filter elements from a list.\n",
    " Use lambda functions with built-in functions like map() to perform operations on each element\n",
    "of a list.\n",
    " Use lambda functions with the sorted() function to customize sorting."
   ]
  },
  {
   "cell_type": "code",
   "execution_count": 6,
   "id": "510631b5",
   "metadata": {},
   "outputs": [
    {
     "name": "stdout",
     "output_type": "stream",
     "text": [
      "\n",
      "Experiment-4:\n",
      "Filtered Numbers (even): [2, 4]\n",
      "Mapped Numbers (doubled): [2, 4, 6, 8, 10]\n",
      "Sorted Numbers (descending): [5, 4, 3, 2, 1]\n"
     ]
    }
   ],
   "source": [
    "# Lambda functions for basic operations\n",
    "add_lambda = lambda x, y: x + y\n",
    "subtract_lambda = lambda x, y: x - y\n",
    "multiply_lambda = lambda x, y: x * y\n",
    "divide_lambda = lambda x, y: x / y if y != 0 else \"Cannot divide by zero\"\n",
    "\n",
    "# Example usage with filter(), map(), and sorted()\n",
    "numbers = [1, 2, 3, 4, 5]\n",
    "filtered_numbers = list(filter(lambda x: x % 2 == 0, numbers))\n",
    "mapped_numbers = list(map(lambda x: x * 2, numbers))\n",
    "sorted_numbers = sorted(numbers, key=lambda x: x, reverse=True)\n",
    "\n",
    "print(\"\\nExperiment-4:\")\n",
    "print(\"Filtered Numbers (even):\", filtered_numbers)\n",
    "print(\"Mapped Numbers (doubled):\", mapped_numbers)\n",
    "print(\"Sorted Numbers (descending):\", sorted_numbers)"
   ]
  },
  {
   "cell_type": "markdown",
   "id": "d0bd7202",
   "metadata": {},
   "source": [
    "Experiment-5: Create a Python module by defining a few functions and variables and Import the module created in step 1 into another Python script and use its functions and variables."
   ]
  },
  {
   "cell_type": "code",
   "execution_count": 13,
   "id": "709fab7c",
   "metadata": {},
   "outputs": [
    {
     "name": "stdout",
     "output_type": "stream",
     "text": [
      "Result from Module - Addition: 15\n",
      "Result from Module - Subtraction: 5\n"
     ]
    }
   ],
   "source": [
    "# Module creation in a file named mymodule.py\n",
    "# Importing and using the module in another script\n",
    "import mymodule\n",
    "\n",
    "result_add_module = mymodule.add(10, 5)\n",
    "result_subtract_module = mymodule.subtract(10, 5)\n",
    "print(\"Result from Module - Addition:\", result_add_module)\n",
    "print(\"Result from Module - Subtraction:\", result_subtract_module)"
   ]
  },
  {
   "cell_type": "markdown",
   "id": "43ace465",
   "metadata": {},
   "source": [
    "Experiment-6: Define a base class, e.g., Vehicle, with attributes such as make, model, and year.\n",
    " Implement a constructor to initialize these attributes.\n",
    " Create instances of the Vehicle class, representing different vehicles with distinct attributes.\n",
    " Display the information for each vehicle using appropriate methods.\n",
    " Overload the + operator to combine the make and model attributes of two instances.\n",
    " Display the result of this operator overloading operation.\n",
    " Create a derived class, e.g., Car, that inherits from the Vehicle class.\n",
    " Add specific attributes to the Car class, such as num_doors and fuel_type.\n",
    " Instantiate objects of both the Vehicle and Car classes.\n",
    " Display the information for each object, showcasing the inheritance structure."
   ]
  },
  {
   "cell_type": "code",
   "execution_count": 11,
   "id": "d6045cab",
   "metadata": {},
   "outputs": [
    {
     "name": "stdout",
     "output_type": "stream",
     "text": [
      "2022 Toyota Camry\n",
      "2021 Honda Accord\n",
      "2023 Ford Mustang\n",
      "Number of doors: 2, Fuel type: Gasoline\n",
      "\n",
      "Experiment-6:\n",
      "Result from Operator Overloading: Toyota Camry + Honda Accord\n"
     ]
    }
   ],
   "source": [
    "# Experiment-6 \n",
    "# Base class Vehicle \n",
    "class Vehicle: \n",
    "    def __init__(self, make, model, year): \n",
    "        self.make = make \n",
    "        self.model = model \n",
    "        self.year = year \n",
    " \n",
    "    def display_info(self): \n",
    "        print(f\"{self.year} {self.make} {self.model}\") \n",
    " \n",
    "    def __add__(self, other): \n",
    "        return f\"{self.make} {self.model} + {other.make} {other.model}\" \n",
    " \n",
    "# Derived class Car \n",
    "class Car(Vehicle): \n",
    "    def __init__(self, make, model, year, num_doors, fuel_type): \n",
    "        super().__init__(make, model, year) \n",
    "        self.num_doors = num_doors \n",
    "        self.fuel_type = fuel_type \n",
    " \n",
    "# Example usage \n",
    "vehicle1 = Vehicle(\"Toyota\", \"Camry\", 2022) \n",
    "vehicle2 = Vehicle(\"Honda\", \"Accord\", 2021) \n",
    " \n",
    "car1 = Car(\"Ford\", \"Mustang\", 2023, 2, \"Gasoline\") \n",
    " \n",
    "vehicle1.display_info() \n",
    "vehicle2.display_info() \n",
    " \n",
    "result_add_overloaded = vehicle1 + vehicle2 \n",
    " \n",
    "car1.display_info() \n",
    "print(f\"Number of doors: {car1.num_doors}, Fuel type: {car1.fuel_type}\") \n",
    " \n",
    "print(\"\\nExperiment-6:\") \n",
    "print(\"Result from Operator Overloading:\", result_add_overloaded)"
   ]
  }
 ],
 "metadata": {
  "kernelspec": {
   "display_name": "Python 3 (ipykernel)",
   "language": "python",
   "name": "python3"
  },
  "language_info": {
   "codemirror_mode": {
    "name": "ipython",
    "version": 3
   },
   "file_extension": ".py",
   "mimetype": "text/x-python",
   "name": "python",
   "nbconvert_exporter": "python",
   "pygments_lexer": "ipython3",
   "version": "3.10.9"
  }
 },
 "nbformat": 4,
 "nbformat_minor": 5
}
