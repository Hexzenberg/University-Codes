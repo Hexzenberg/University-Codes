{
 "cells": [
  {
   "cell_type": "markdown",
   "id": "28c3a14c",
   "metadata": {},
   "source": [
    "#Right half Pyramid"
   ]
  },
  {
   "cell_type": "code",
   "execution_count": 1,
   "id": "cf98f370",
   "metadata": {},
   "outputs": [
    {
     "name": "stdout",
     "output_type": "stream",
     "text": [
      "* \n",
      "* * \n",
      "* * * \n",
      "* * * * \n",
      "* * * * * \n"
     ]
    }
   ],
   "source": [
    "for a in range(1, 6):\n",
    "    print(\"* \" * a)"
   ]
  },
  {
   "cell_type": "markdown",
   "id": "a43537dc",
   "metadata": {},
   "source": [
    "#Left half pyramid"
   ]
  },
  {
   "cell_type": "code",
   "execution_count": 10,
   "id": "de055369",
   "metadata": {},
   "outputs": [
    {
     "name": "stdout",
     "output_type": "stream",
     "text": [
      "    *\n",
      "   **\n",
      "  ***\n",
      " ****\n",
      "*****\n"
     ]
    }
   ],
   "source": [
    "for a in range(1, 6):\n",
    "    print(\" \" * (5 - a), \"*\" * a)"
   ]
  },
  {
   "cell_type": "markdown",
   "id": "a3c564ba",
   "metadata": {},
   "source": [
    "#Full Pyramid"
   ]
  },
  {
   "cell_type": "code",
   "execution_count": 3,
   "id": "4425de07",
   "metadata": {},
   "outputs": [
    {
     "name": "stdout",
     "output_type": "stream",
     "text": [
      "      *\n",
      "     * *\n",
      "    * * *\n",
      "   * * * *\n",
      "  * * * * *\n"
     ]
    }
   ],
   "source": [
    "for a in range(1, 6):\n",
    "    print(\" \" * (5 - a), \" *\" * a)"
   ]
  },
  {
   "cell_type": "markdown",
   "id": "cb8a278c",
   "metadata": {},
   "source": [
    "#Inverted Right half pyramid"
   ]
  },
  {
   "cell_type": "code",
   "execution_count": 8,
   "id": "1c7af5d9",
   "metadata": {},
   "outputs": [
    {
     "name": "stdout",
     "output_type": "stream",
     "text": [
      "* * * * * \n",
      "* * * * \n",
      "* * * \n",
      "* * \n",
      "* \n"
     ]
    }
   ],
   "source": [
    "for a in range(1, 6):\n",
    "    print(\"* \" * (6 - a))"
   ]
  },
  {
   "cell_type": "markdown",
   "id": "d7aa2b5a",
   "metadata": {},
   "source": [
    "#Inverted Left Half pyramid"
   ]
  },
  {
   "cell_type": "code",
   "execution_count": 11,
   "id": "5a6c11c6",
   "metadata": {},
   "outputs": [
    {
     "name": "stdout",
     "output_type": "stream",
     "text": [
      " *****\n",
      "  ****\n",
      "   ***\n",
      "    **\n",
      "     *\n"
     ]
    }
   ],
   "source": [
    "for a in range(1, 6):\n",
    "    print(\" \" * a, \"*\" * (6 - a))"
   ]
  },
  {
   "cell_type": "markdown",
   "id": "ea8b6e7e",
   "metadata": {},
   "source": [
    "#Inverted Full Pyramid"
   ]
  },
  {
   "cell_type": "code",
   "execution_count": 24,
   "id": "78ea6b27",
   "metadata": {},
   "outputs": [
    {
     "name": "stdout",
     "output_type": "stream",
     "text": [
      "   * * * * *\n",
      "    * * * *\n",
      "     * * *\n",
      "      * *\n",
      "       *\n"
     ]
    }
   ],
   "source": [
    "for a in range(1, 6):\n",
    "    print(\" \" * a, \" *\" * (6 - a))"
   ]
  },
  {
   "cell_type": "markdown",
   "id": "34ab3998",
   "metadata": {},
   "source": [
    "#Rhombus Pattern"
   ]
  },
  {
   "cell_type": "code",
   "execution_count": 26,
   "id": "e346297f",
   "metadata": {},
   "outputs": [
    {
     "name": "stdout",
     "output_type": "stream",
     "text": [
      "  * * * * \n",
      "   * * * * \n",
      "    * * * * \n",
      "     * * * * \n",
      "      * * * * \n"
     ]
    }
   ],
   "source": [
    "for a in range(1, 6):\n",
    "    print(\" \" * a, \"* \" * 4)"
   ]
  },
  {
   "cell_type": "markdown",
   "id": "0ad55739",
   "metadata": {},
   "source": [
    "#Diamond Pattern"
   ]
  },
  {
   "cell_type": "code",
   "execution_count": 29,
   "id": "6e061821",
   "metadata": {},
   "outputs": [
    {
     "name": "stdout",
     "output_type": "stream",
     "text": [
      "      *\n",
      "     * *\n",
      "    * * *\n",
      "   * * * *\n",
      "  * * * * *\n",
      "   * * * *\n",
      "    * * *\n",
      "     * *\n",
      "      *\n",
      "      \n"
     ]
    }
   ],
   "source": [
    "for a in range(1, 6):\n",
    "    print(\" \" * (5 - a), \" *\" * a)\n",
    "for a in range(1, 6):\n",
    "    print(\" \" * a, \" *\" * (5 - a))"
   ]
  },
  {
   "cell_type": "markdown",
   "id": "b610dcdd",
   "metadata": {},
   "source": [
    "#Hourglass Pattern"
   ]
  },
  {
   "cell_type": "code",
   "execution_count": 75,
   "id": "7ac76468",
   "metadata": {},
   "outputs": [
    {
     "name": "stdout",
     "output_type": "stream",
     "text": [
      "  * * * * *\n",
      "   * * * *\n",
      "    * * *\n",
      "     * *\n",
      "      *\n",
      "     * *\n",
      "    * * *\n",
      "   * * * *\n",
      "  * * * * *\n"
     ]
    }
   ],
   "source": [
    "for a in range(1, 6):\n",
    "    print(\" \" * (a - 1), \" *\" * (6 - a))\n",
    "for a in range(2, 6):\n",
    "    print(\" \" * (5 - a), \" *\" * a)"
   ]
  },
  {
   "cell_type": "markdown",
   "id": "839b63c3",
   "metadata": {},
   "source": [
    "#Hollow Square Pattern"
   ]
  },
  {
   "cell_type": "code",
   "execution_count": 49,
   "id": "9a79b9f0",
   "metadata": {},
   "outputs": [
    {
     "name": "stdout",
     "output_type": "stream",
     "text": [
      "* * * * * * \n",
      "*         *\n",
      "*         *\n",
      "*         *\n",
      "*         *\n",
      "* * * * * * \n"
     ]
    }
   ],
   "source": [
    "for i in range(1,7):\n",
    "    if(i == 1 or i == 6): print(\"* \"*6)\n",
    "    else: print(\"*         *\")"
   ]
  },
  {
   "cell_type": "markdown",
   "id": "798e7e4f",
   "metadata": {},
   "source": [
    "#Hollow Full Pyramid"
   ]
  },
  {
   "cell_type": "code",
   "execution_count": 59,
   "id": "96c45685",
   "metadata": {},
   "outputs": [
    {
     "name": "stdout",
     "output_type": "stream",
     "text": [
      "     * \n",
      "    * * \n",
      "   *   *\n",
      "  *     *\n",
      " * * * * * \n"
     ]
    }
   ],
   "source": [
    "for i in range(1,6):\n",
    "    print(\" \"*(6-i),end=\"\")\n",
    "    if(i==1 or i==2 or i==5): print(\"* \"*i)\n",
    "    else:\n",
    "        print(\"* \" + \"  \"*(i-2) + \"*\")"
   ]
  },
  {
   "cell_type": "markdown",
   "id": "ffde1ec4",
   "metadata": {},
   "source": [
    "#Hollow Inverted full pyramid"
   ]
  },
  {
   "cell_type": "code",
   "execution_count": 69,
   "id": "a6c323ed",
   "metadata": {},
   "outputs": [
    {
     "name": "stdout",
     "output_type": "stream",
     "text": [
      "* * * * * \n",
      " *     *\n",
      "  *   *\n",
      "   * *\n",
      "    * \n"
     ]
    }
   ],
   "source": [
    "for i in range(1,6):\n",
    "    print(\" \"*(i-1),end=\"\")\n",
    "    if(i==1 or i==5): print(\"* \"*(6-i))\n",
    "    else:\n",
    "        print(\"* \"+ \"  \"*(4-i) + \"*\")"
   ]
  },
  {
   "cell_type": "markdown",
   "id": "b196227a",
   "metadata": {},
   "source": [
    "#Hollow Diamond Pyramid"
   ]
  },
  {
   "cell_type": "code",
   "execution_count": 71,
   "id": "5e7f4743",
   "metadata": {},
   "outputs": [
    {
     "name": "stdout",
     "output_type": "stream",
     "text": [
      "    * \n",
      "   * *\n",
      "  *   *\n",
      " *     *\n",
      "  *   *\n",
      "   * *\n",
      "    *\n"
     ]
    }
   ],
   "source": [
    "for i in range(1,5):\n",
    "    print(\" \"*(5-i),end=\"\")\n",
    "    if(i==1): print(\"* \"*i)\n",
    "    else:\n",
    "        print(\"* \" + \"  \"*(i-2) + \"*\")\n",
    "        \n",
    "for i in range(1,5):\n",
    "    print(\" \"*(i-1),end=\"\")\n",
    "    if(i==4): print(\" *\"*(5-i))\n",
    "    elif(i==1): continue\n",
    "    else:\n",
    "        print(\" *\"+ \"  \"*(3-i) + \" *\")"
   ]
  },
  {
   "cell_type": "markdown",
   "id": "f461bad5",
   "metadata": {},
   "source": [
    "#Hollow Hour Glass Pattern"
   ]
  },
  {
   "cell_type": "code",
   "execution_count": 80,
   "id": "3f952a47",
   "metadata": {},
   "outputs": [
    {
     "name": "stdout",
     "output_type": "stream",
     "text": [
      "* * * * * \n",
      " *     * \n",
      "  *   * \n",
      "   * * \n",
      "    * \n",
      "   * * \n",
      "  *   * \n",
      " *     * \n",
      "* * * * * \n"
     ]
    }
   ],
   "source": [
    "rows = 5\n",
    "for i in range(rows):\n",
    "    if i == 0 or i == rows - 1:\n",
    "        print(\" \" * i + \"* \" * (rows - i))\n",
    "    else:\n",
    "        print(\" \" * i + \"* \" + \"  \" * (rows - i - 2) + \"* \")\n",
    "\n",
    "for i in range(2, rows + 1):\n",
    "    if i == rows or i == 1:\n",
    "        print(\" \" * (rows - i) + \"* \" * i)\n",
    "    else:\n",
    "         print(\" \" * (rows - i) + \"* \" + \"  \" * (i - 2) + \"* \")"
   ]
  },
  {
   "cell_type": "markdown",
   "id": "3179ceff",
   "metadata": {},
   "source": [
    "Floyd's Triangle"
   ]
  },
  {
   "cell_type": "code",
   "execution_count": 70,
   "id": "7d97a035",
   "metadata": {},
   "outputs": [
    {
     "name": "stdout",
     "output_type": "stream",
     "text": [
      "1 \n",
      "2 3 \n",
      "4 5 6 \n",
      "7 8 9 10 \n"
     ]
    }
   ],
   "source": [
    "num = 1   # Starting number\n",
    "for i in range(1, 4 + 1):\n",
    "    for j in range(1, i + 1):\n",
    "        print(num, end=\" \")\n",
    "        num += 1\n",
    "    print()"
   ]
  },
  {
   "cell_type": "markdown",
   "id": "760e27c2",
   "metadata": {},
   "source": [
    "#Pascal's Triangle"
   ]
  },
  {
   "cell_type": "code",
   "execution_count": 74,
   "id": "1aae9a13",
   "metadata": {},
   "outputs": [
    {
     "name": "stdout",
     "output_type": "stream",
     "text": [
      "     1 \n",
      "    1 1 \n",
      "   1 2 1 \n",
      "  1 3 3 1 \n"
     ]
    }
   ],
   "source": [
    "from math import factorial\n",
    "\n",
    "for i in range(4):\n",
    "    for j in range(4-i+1):\n",
    " \n",
    "        # for left spacing\n",
    "        print(end=\" \")\n",
    " \n",
    "    for j in range(i+1):\n",
    " \n",
    "        # nCr = n!/((n-r)!*r!)\n",
    "        print(factorial(i)//(factorial(j)*factorial(i-j)), end=\" \")\n",
    " \n",
    "    # for new line\n",
    "    print()"
   ]
  }
 ],
 "metadata": {
  "kernelspec": {
   "display_name": "Python 3 (ipykernel)",
   "language": "python",
   "name": "python3"
  },
  "language_info": {
   "codemirror_mode": {
    "name": "ipython",
    "version": 3
   },
   "file_extension": ".py",
   "mimetype": "text/x-python",
   "name": "python",
   "nbconvert_exporter": "python",
   "pygments_lexer": "ipython3",
   "version": "3.10.9"
  }
 },
 "nbformat": 4,
 "nbformat_minor": 5
}
