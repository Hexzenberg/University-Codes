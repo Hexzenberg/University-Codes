{
 "cells": [
  {
   "cell_type": "markdown",
   "id": "2527472f",
   "metadata": {},
   "source": [
    "Importing all the dependencies beforehand"
   ]
  },
  {
   "cell_type": "code",
   "execution_count": 1,
   "id": "219bc404",
   "metadata": {},
   "outputs": [],
   "source": [
    "import numpy as np\n",
    "import pandas as pd"
   ]
  },
  {
   "cell_type": "markdown",
   "id": "9d47859c",
   "metadata": {},
   "source": [
    "1. Write a Python function to reverse a list."
   ]
  },
  {
   "cell_type": "code",
   "execution_count": 2,
   "id": "385196cd",
   "metadata": {},
   "outputs": [
    {
     "name": "stdout",
     "output_type": "stream",
     "text": [
      "original list:  [1, 2, 3, 4, 5] reversed list:  [5, 4, 3, 2, 1]\n"
     ]
    }
   ],
   "source": [
    "def func(list_param):\n",
    "    return list_param[::-1]\n",
    "\n",
    "original_list = [1, 2, 3, 4, 5]\n",
    "print(\"original list: \", original_list, \"reversed list: \", func(original_list))"
   ]
  },
  {
   "cell_type": "markdown",
   "id": "85527182",
   "metadata": {},
   "source": [
    "2. Create a NumPy array filled with zeros of shape (3, 3)."
   ]
  },
  {
   "cell_type": "code",
   "execution_count": 3,
   "id": "f5684033",
   "metadata": {},
   "outputs": [
    {
     "name": "stdout",
     "output_type": "stream",
     "text": [
      "[[0. 0. 0.]\n",
      " [0. 0. 0.]\n",
      " [0. 0. 0.]]\n"
     ]
    }
   ],
   "source": [
    "zero_arr = np.zeros((3, 3))\n",
    "print(zero_arr)"
   ]
  },
  {
   "cell_type": "markdown",
   "id": "6b77e90f",
   "metadata": {},
   "source": [
    "3. Write a function to check if a given number is prime or not."
   ]
  },
  {
   "cell_type": "code",
   "execution_count": 4,
   "id": "f94ae1a6",
   "metadata": {},
   "outputs": [
    {
     "name": "stdout",
     "output_type": "stream",
     "text": [
      "The number is not prime.\n"
     ]
    }
   ],
   "source": [
    "def is_prime(num):\n",
    "    if num < 2:\n",
    "        return False\n",
    "    \n",
    "    for i in range(2, int(num ** 0.5) + 1):\n",
    "        if num % i == 0:\n",
    "            return False\n",
    "    \n",
    "    return True\n",
    "\n",
    "num = 45\n",
    "print(\"The number is prime.\" if is_prime(num) else \"The number is not prime.\")"
   ]
  },
  {
   "cell_type": "markdown",
   "id": "82f885c6",
   "metadata": {},
   "source": [
    "4. How to convert a list of tuples into a pandas DataFrame?"
   ]
  },
  {
   "cell_type": "code",
   "execution_count": 5,
   "id": "68bd0c4b",
   "metadata": {},
   "outputs": [
    {
     "name": "stdout",
     "output_type": "stream",
     "text": [
      "   Name  Age  Gender\n",
      "0  John   25    Male\n",
      "1  Jane   30  Female\n",
      "2   Bob   35    Male\n"
     ]
    }
   ],
   "source": [
    "# List of tuples\n",
    "tuples_list = [('John', 25, 'Male'), ('Jane', 30, 'Female'), ('Bob', 35, 'Male')]\n",
    "\n",
    "# Create a DataFrame from the list of tuples\n",
    "df = pd.DataFrame(tuples_list, columns=['Name', 'Age', 'Gender'])\n",
    "\n",
    "print(df)"
   ]
  },
  {
   "cell_type": "markdown",
   "id": "aedf9374",
   "metadata": {},
   "source": [
    "5. Implement a function to find the factorial of a number recursively.\n"
   ]
  },
  {
   "cell_type": "code",
   "execution_count": 6,
   "id": "4ef14e27",
   "metadata": {},
   "outputs": [
    {
     "name": "stdout",
     "output_type": "stream",
     "text": [
      "The factorial is:  120\n"
     ]
    }
   ],
   "source": [
    "def rec_fact(num):\n",
    "    \n",
    "    if num <= 1:\n",
    "        return 1\n",
    "    \n",
    "    return rec_fact(num - 1) * num\n",
    "\n",
    "num = 5\n",
    "print(\"The factorial is: \", rec_fact(num))"
   ]
  },
  {
   "cell_type": "markdown",
   "id": "63f41162",
   "metadata": {},
   "source": [
    "6. Write a NumPy program to create a 2d array with 1 on the border and 0 inside."
   ]
  },
  {
   "cell_type": "code",
   "execution_count": 7,
   "id": "b0c312ea",
   "metadata": {},
   "outputs": [
    {
     "name": "stdout",
     "output_type": "stream",
     "text": [
      "[[1 1 1 1 1 1 1]\n",
      " [1 0 0 0 0 0 1]\n",
      " [1 0 0 0 0 0 1]\n",
      " [1 0 0 0 0 0 1]\n",
      " [1 1 1 1 1 1 1]]\n"
     ]
    }
   ],
   "source": [
    "def create_border_array(rows, cols):\n",
    "    \n",
    "    # Create an array filled with zeros\n",
    "    arr = np.zeros((rows, cols), dtype=int)\n",
    "    \n",
    "    # Set the border elements to 1\n",
    "    arr[0, :] = 1  # Top border\n",
    "    arr[-1, :] = 1  # Bottom border\n",
    "    arr[:, 0] = 1  # Left border\n",
    "    arr[:, -1] = 1  # Right border\n",
    "    \n",
    "    return arr\n",
    "\n",
    "rows = 5\n",
    "cols = 7\n",
    "border_array = create_border_array(rows, cols)\n",
    "print(border_array)"
   ]
  },
  {
   "cell_type": "markdown",
   "id": "63c7080c",
   "metadata": {},
   "source": [
    "7. Given a list of numbers, write a Python function to find the sum of all the numbers in the list."
   ]
  },
  {
   "cell_type": "code",
   "execution_count": 8,
   "id": "c1ba9f67",
   "metadata": {},
   "outputs": [
    {
     "name": "stdout",
     "output_type": "stream",
     "text": [
      "The sum of the number present in the list:  15\n"
     ]
    }
   ],
   "source": [
    "def list_sum(list_param):\n",
    "    \n",
    "    sum = 0\n",
    "    \n",
    "    for i in list_param:\n",
    "        sum += i\n",
    "    \n",
    "    return sum\n",
    "\n",
    "lt = [1, 2, 3, 4, 5]\n",
    "print(\"The sum of the number present in the list: \", list_sum(lt))"
   ]
  },
  {
   "cell_type": "markdown",
   "id": "1ea9e705",
   "metadata": {},
   "source": [
    "8. How to count the occurrences of each element in a NumPy array?"
   ]
  },
  {
   "cell_type": "code",
   "execution_count": 9,
   "id": "b3db3e6a",
   "metadata": {},
   "outputs": [
    {
     "name": "stdout",
     "output_type": "stream",
     "text": [
      "1 occurs 2 times.\n",
      "\n",
      "2 occurs 3 times.\n",
      "\n",
      "3 occurs 2 times.\n",
      "\n",
      "4 occurs 1 times.\n",
      "\n"
     ]
    }
   ],
   "source": [
    "arr = np.array([1, 2, 3, 1, 2, 4, 2, 3])\n",
    "unique_values, counts = np.unique(arr, return_counts=True)\n",
    "\n",
    "for value, count in zip(unique_values, counts):\n",
    "    print(value, \"occurs\", count, \"times.\\n\")"
   ]
  },
  {
   "cell_type": "markdown",
   "id": "d361e222",
   "metadata": {},
   "source": [
    "9. Write a Python function to check if a string is a palindrome."
   ]
  },
  {
   "cell_type": "code",
   "execution_count": 10,
   "id": "daa94346",
   "metadata": {},
   "outputs": [
    {
     "name": "stdout",
     "output_type": "stream",
     "text": [
      "True\n"
     ]
    }
   ],
   "source": [
    "def is_palindrome(string):\n",
    "    \n",
    "    # Remove whitespace and convert to lowercase\n",
    "    cleaned_string = ''.join(string.split()).lower()\n",
    "    \n",
    "    # Check if the cleaned string is equal to its reverse\n",
    "    return cleaned_string == cleaned_string[::-1]\n",
    "\n",
    "print(is_palindrome(\"racecar\"))"
   ]
  },
  {
   "cell_type": "markdown",
   "id": "07a54545",
   "metadata": {},
   "source": [
    "10. Create a pandas DataFrame from a dictionary where each key-value pair represents a column."
   ]
  },
  {
   "cell_type": "code",
   "execution_count": 11,
   "id": "bcc9966f",
   "metadata": {},
   "outputs": [
    {
     "name": "stdout",
     "output_type": "stream",
     "text": [
      "    Name  Age      City\n",
      "0   John   25  New York\n",
      "1   Jane   30    London\n",
      "2    Bob   35     Paris\n",
      "3  Alice   40     Tokyo\n"
     ]
    }
   ],
   "source": [
    "data = {\n",
    "    'Name': ['John', 'Jane', 'Bob', 'Alice'],\n",
    "    'Age': [25, 30, 35, 40],\n",
    "    'City': ['New York', 'London', 'Paris', 'Tokyo']\n",
    "}\n",
    "\n",
    "df = pd.DataFrame(data)\n",
    "print(df)"
   ]
  },
  {
   "cell_type": "markdown",
   "id": "4014807f",
   "metadata": {},
   "source": [
    "11. Implement a function to check if two strings are anagrams of each other."
   ]
  },
  {
   "cell_type": "code",
   "execution_count": 12,
   "id": "8505546c",
   "metadata": {},
   "outputs": [
    {
     "name": "stdout",
     "output_type": "stream",
     "text": [
      "True\n"
     ]
    }
   ],
   "source": [
    "def are_anagrams(str1, str2):\n",
    "    \n",
    "    # Remove whitespace and convert to lowercase\n",
    "    str1 = ''.join(str1.split()).lower()\n",
    "    str2 = ''.join(str2.split()).lower()\n",
    "    \n",
    "    if len(str1) != len(str2):\n",
    "        return False\n",
    "    \n",
    "    str1_sorted = sorted(str1)\n",
    "    str2_sorted = sorted(str2)\n",
    "    \n",
    "    return str1_sorted == str2_sorted\n",
    "\n",
    "print(are_anagrams(\"listen\", \"silent\"))  "
   ]
  },
  {
   "cell_type": "markdown",
   "id": "567431e9",
   "metadata": {},
   "source": [
    "12. Write a Python function to find the maximum and minimum values in a list."
   ]
  },
  {
   "cell_type": "code",
   "execution_count": 13,
   "id": "eaf06fa3",
   "metadata": {},
   "outputs": [
    {
     "name": "stdout",
     "output_type": "stream",
     "text": [
      "Maximum value:  9 Minimum value:  1\n"
     ]
    }
   ],
   "source": [
    "def find_max_min(list_param):\n",
    "    \n",
    "    if not list_param:\n",
    "        return None, None\n",
    "    \n",
    "    max_val = min_val = list_param[0]\n",
    "    \n",
    "    for num in list_param:\n",
    "        if num > max_val:\n",
    "            max_val = num\n",
    "        elif num < min_val:\n",
    "            min_val = num\n",
    "    \n",
    "    return max_val, min_val\n",
    "\n",
    "numbers = [5, 2, 8, 1, 9, 3]\n",
    "maximum, minimum = find_max_min(numbers)\n",
    "print(\"Maximum value: \", maximum, \"Minimum value: \", minimum)"
   ]
  },
  {
   "cell_type": "markdown",
   "id": "7e1d72a2",
   "metadata": {},
   "source": [
    "13. Create a NumPy array with values ranging from 1 to 10."
   ]
  },
  {
   "cell_type": "code",
   "execution_count": 14,
   "id": "487a2b24",
   "metadata": {},
   "outputs": [
    {
     "name": "stdout",
     "output_type": "stream",
     "text": [
      "[ 1  2  3  4  5  6  7  8  9 10]\n"
     ]
    }
   ],
   "source": [
    "arr = np.arange(1, 11)\n",
    "print(arr)"
   ]
  },
  {
   "cell_type": "markdown",
   "id": "812fed7b",
   "metadata": {},
   "source": [
    "14. How to transpose a NumPy array?"
   ]
  },
  {
   "cell_type": "code",
   "execution_count": 15,
   "id": "46e544dd",
   "metadata": {},
   "outputs": [
    {
     "name": "stdout",
     "output_type": "stream",
     "text": [
      "[[1 4]\n",
      " [2 5]\n",
      " [3 6]]\n"
     ]
    }
   ],
   "source": [
    "import numpy as np\n",
    "\n",
    "arr = np.array([[1, 2, 3], \n",
    "                [4, 5, 6]])\n",
    "\n",
    "transposed_arr = np.transpose(arr)\n",
    "print(transposed_arr)"
   ]
  },
  {
   "cell_type": "markdown",
   "id": "31b3f5cd",
   "metadata": {},
   "source": [
    "15. Write a Python function to remove duplicates from a list.\n"
   ]
  },
  {
   "cell_type": "code",
   "execution_count": 16,
   "id": "efad99b3",
   "metadata": {},
   "outputs": [
    {
     "name": "stdout",
     "output_type": "stream",
     "text": [
      "[1, 2, 3, 4, 5, 6]\n"
     ]
    }
   ],
   "source": [
    "def remove_duplicates(list_param):\n",
    "    \n",
    "    unique_set = set(list_param)\n",
    "    \n",
    "    unique_list = list(unique_set)\n",
    "    \n",
    "    return unique_list\n",
    "\n",
    "original_list = [1, 2, 3, 2, 4, 1, 5, 6, 6]\n",
    "unique_list = remove_duplicates(original_list)\n",
    "print(unique_list)  "
   ]
  },
  {
   "cell_type": "markdown",
   "id": "2cf3459c",
   "metadata": {},
   "source": [
    "16. Implement a function to find the intersection of two lists.\n"
   ]
  },
  {
   "cell_type": "code",
   "execution_count": 17,
   "id": "53b66513",
   "metadata": {},
   "outputs": [
    {
     "name": "stdout",
     "output_type": "stream",
     "text": [
      "[4, 5]\n"
     ]
    }
   ],
   "source": [
    "def find_intersection(list1, list2):\n",
    "    \n",
    "    set1 = set(list1)\n",
    "    set2 = set(list2)\n",
    "    \n",
    "    intersection_set = set1 & set2\n",
    "    \n",
    "    intersection_list = list(intersection_set)\n",
    "    \n",
    "    return intersection_list\n",
    "\n",
    "list1 = [1, 2, 3, 4, 5]\n",
    "list2 = [4, 5, 6, 7, 8]\n",
    "intersection = find_intersection(list1, list2)\n",
    "print(intersection)  "
   ]
  },
  {
   "cell_type": "markdown",
   "id": "708c46c5",
   "metadata": {},
   "source": [
    "17. Write a NumPy program to compute the determinant of a given square array.\n",
    "\n"
   ]
  },
  {
   "cell_type": "code",
   "execution_count": 18,
   "id": "8c2f314d",
   "metadata": {},
   "outputs": [
    {
     "name": "stdout",
     "output_type": "stream",
     "text": [
      "The determinant of the array is: 19.999999999999996\n"
     ]
    }
   ],
   "source": [
    "def compute_determinant(arr):\n",
    "    \n",
    "    if arr.shape[0] != arr.shape[1]:\n",
    "        print(\"Input array must be square.\")\n",
    "        return False\n",
    "    \n",
    "    determinant = np.linalg.det(arr)\n",
    "    \n",
    "    return determinant\n",
    "\n",
    "square_array = np.array([[8, 5],\n",
    "                         [4, 5]])\n",
    "det = compute_determinant(square_array)\n",
    "print(f\"The determinant of the array is: {det}\")"
   ]
  },
  {
   "cell_type": "markdown",
   "id": "dd1646d9",
   "metadata": {},
   "source": [
    "18. How to sort a pandas DataFrame by a specific column?\n"
   ]
  },
  {
   "cell_type": "code",
   "execution_count": 19,
   "id": "9dab6813",
   "metadata": {},
   "outputs": [
    {
     "name": "stdout",
     "output_type": "stream",
     "text": [
      "    Name  Age      City\n",
      "0   John   25  New York\n",
      "1   Jane   30    London\n",
      "2    Bob   35     Paris\n",
      "3  Alice   40     Tokyo\n"
     ]
    }
   ],
   "source": [
    "data = {'Name': ['John', 'Jane', 'Bob', 'Alice'],\n",
    "        'Age': [25, 30, 35, 40],\n",
    "        'City': ['New York', 'London', 'Paris', 'Tokyo']}\n",
    "df = pd.DataFrame(data)\n",
    "df_sorted = df.sort_values(by='Age')\n",
    "print(df_sorted)"
   ]
  },
  {
   "cell_type": "markdown",
   "id": "fbb7b141",
   "metadata": {},
   "source": [
    "19. Create a Python function to generate the Fibonacci sequence up to n terms.\n"
   ]
  },
  {
   "cell_type": "code",
   "execution_count": 20,
   "id": "26c58551",
   "metadata": {},
   "outputs": [
    {
     "name": "stdout",
     "output_type": "stream",
     "text": [
      "[0, 1, 1, 2, 3, 5, 8, 13, 21, 34]\n"
     ]
    }
   ],
   "source": [
    "def fibonacci_sequence(n):\n",
    "    \n",
    "    sequence = [0, 1]\n",
    "    \n",
    "    for i in range(2, n):\n",
    "        next_term = sequence[i-1] + sequence[i-2]\n",
    "        sequence.append(next_term)\n",
    "    \n",
    "    return sequence\n",
    "\n",
    "num_terms = 10\n",
    "fib_sequence = fibonacci_sequence(num_terms)\n",
    "print(fib_sequence)"
   ]
  },
  {
   "cell_type": "markdown",
   "id": "5ab88d08",
   "metadata": {},
   "source": [
    "20. Write a NumPy program to compute the inner product of two given vectors.\n"
   ]
  },
  {
   "cell_type": "code",
   "execution_count": 21,
   "id": "e51b55fe",
   "metadata": {},
   "outputs": [
    {
     "name": "stdout",
     "output_type": "stream",
     "text": [
      "The inner product of the vectors is:  32\n"
     ]
    }
   ],
   "source": [
    "def compute_inner_product(vec1, vec2):\n",
    "    \n",
    "    if vec1.shape != vec2.shape:\n",
    "        print(\"Input vectors must have the same shape.\")\n",
    "        return False\n",
    "    \n",
    "    inner_product = np.dot(vec1, vec2)\n",
    "    \n",
    "    return inner_product\n",
    "\n",
    "vector1 = np.array([1, 2, 3])\n",
    "vector2 = np.array([4, 5, 6])\n",
    "\n",
    "result = compute_inner_product(vector1, vector2)\n",
    "print(\"The inner product of the vectors is: \", result)"
   ]
  },
  {
   "cell_type": "markdown",
   "id": "ba9b7412",
   "metadata": {},
   "source": [
    "21. Implement a function to flatten a nested list.\n"
   ]
  },
  {
   "cell_type": "code",
   "execution_count": 22,
   "id": "49ac6d81",
   "metadata": {},
   "outputs": [
    {
     "name": "stdout",
     "output_type": "stream",
     "text": [
      "[1, 2, 3, 4, 5, 6, 7, 8]\n"
     ]
    }
   ],
   "source": [
    "def flatten_list(nested_list):\n",
    "    \n",
    "    flat_list = []\n",
    "    \n",
    "    def flatten(lst):\n",
    "        for item in lst:\n",
    "            if isinstance(item, list):\n",
    "                flatten(item)\n",
    "            else:\n",
    "                flat_list.append(item)\n",
    "    \n",
    "    flatten(nested_list)\n",
    "    return flat_list\n",
    "\n",
    "nested_list = [1, 2, [3, 4], [5, [6, 7]], 8]\n",
    "flattened_list = flatten_list(nested_list)\n",
    "print(flattened_list)  "
   ]
  },
  {
   "cell_type": "markdown",
   "id": "dfcfb816",
   "metadata": {},
   "source": [
    "22. Write a Python function to check if a number is even or odd."
   ]
  },
  {
   "cell_type": "code",
   "execution_count": 23,
   "id": "c66ce968",
   "metadata": {},
   "outputs": [
    {
     "name": "stdout",
     "output_type": "stream",
     "text": [
      "Odd\n"
     ]
    }
   ],
   "source": [
    "def is_even(num):\n",
    "    \n",
    "    return num % 2 == 0\n",
    "\n",
    "print(\"Even\" if is_even(5) else \"Odd\") "
   ]
  },
  {
   "cell_type": "markdown",
   "id": "a40b86e3",
   "metadata": {},
   "source": [
    "23. How to rename columns in a pandas DataFrame?\n"
   ]
  },
  {
   "cell_type": "code",
   "execution_count": 24,
   "id": "dac118be",
   "metadata": {},
   "outputs": [
    {
     "name": "stdout",
     "output_type": "stream",
     "text": [
      "    Name  Age      City\n",
      "0   John   25  New York\n",
      "1   Jane   30    London\n",
      "2    Bob   35     Paris\n",
      "3  Alice   40     Tokyo \n",
      "\n",
      "  FirstName  Years      City\n",
      "0      John     25  New York\n",
      "1      Jane     30    London\n",
      "2       Bob     35     Paris\n",
      "3     Alice     40     Tokyo\n"
     ]
    }
   ],
   "source": [
    "data = {'Name': ['John', 'Jane', 'Bob', 'Alice'],\n",
    "        'Age': [25, 30, 35, 40],\n",
    "        'City': ['New York', 'London', 'Paris', 'Tokyo']}\n",
    "df = pd.DataFrame(data)\n",
    "print(df, '\\n')\n",
    "df = df.rename(columns={'Name': 'FirstName', 'Age': 'Years'})\n",
    "print(df)"
   ]
  },
  {
   "cell_type": "markdown",
   "id": "95dafa57",
   "metadata": {},
   "source": [
    "24. Create a NumPy array of random integers between 1 and 100."
   ]
  },
  {
   "cell_type": "code",
   "execution_count": 25,
   "id": "e17ab907",
   "metadata": {},
   "outputs": [
    {
     "name": "stdout",
     "output_type": "stream",
     "text": [
      "[ 57  80  14  32 100  87  41  41  19  50]\n"
     ]
    }
   ],
   "source": [
    "random_array = np.random.randint(1, 101, size=10)\n",
    "print(random_array)"
   ]
  },
  {
   "cell_type": "markdown",
   "id": "93977a30",
   "metadata": {},
   "source": [
    "25. Write a Python function to find the median of a list.\n"
   ]
  },
  {
   "cell_type": "code",
   "execution_count": 26,
   "id": "f877e8ab",
   "metadata": {},
   "outputs": [
    {
     "name": "stdout",
     "output_type": "stream",
     "text": [
      "The median of the list is:  5\n"
     ]
    }
   ],
   "source": [
    "def find_median(lst):\n",
    "    \n",
    "    sorted_lst = sorted(lst)\n",
    "    n = len(sorted_lst)\n",
    "    \n",
    "    if n % 2 == 0:\n",
    "        middle1 = sorted_lst[n // 2 - 1]\n",
    "        middle2 = sorted_lst[n // 2]\n",
    "        median = (middle1 + middle2) / 2\n",
    "    else:\n",
    "        median = sorted_lst[n // 2]\n",
    "    \n",
    "    return median\n",
    "\n",
    "numbers = [5, 2, 8, 1, 9, 3, 7]\n",
    "median_value = find_median(numbers)\n",
    "print(\"The median of the list is: \", median_value)"
   ]
  },
  {
   "cell_type": "markdown",
   "id": "206685c1",
   "metadata": {},
   "source": [
    "26. Implement a function to rotate a list to the right by k steps.\n"
   ]
  },
  {
   "cell_type": "code",
   "execution_count": 27,
   "id": "5181271b",
   "metadata": {},
   "outputs": [
    {
     "name": "stdout",
     "output_type": "stream",
     "text": [
      "[4, 5, 1, 2, 3]\n"
     ]
    }
   ],
   "source": [
    "def rotate_list(list_param, k):\n",
    "    \n",
    "    k = k % len(list_param)\n",
    "    \n",
    "    # Slice the list into two parts\n",
    "    left_part = list_param[:-k]\n",
    "    right_part = list_param[-k:]\n",
    "    \n",
    "    # Rotate the list by concatenating the two parts\n",
    "    rotated_list = right_part + left_part\n",
    "    \n",
    "    return rotated_list\n",
    "\n",
    "original_list = [1, 2, 3, 4, 5]\n",
    "rotated_list = rotate_list(original_list, 2)\n",
    "print(rotated_list)  "
   ]
  },
  {
   "cell_type": "markdown",
   "id": "950b9071",
   "metadata": {},
   "source": [
    "27. Write a NumPy program to compute the mean, median, and mode of a given array.\n"
   ]
  },
  {
   "cell_type": "code",
   "execution_count": 28,
   "id": "f4f9bd87",
   "metadata": {},
   "outputs": [
    {
     "name": "stdout",
     "output_type": "stream",
     "text": [
      "Mean: 2.5 Median: 2.5 Mode: 2\n"
     ]
    },
    {
     "name": "stderr",
     "output_type": "stream",
     "text": [
      "/var/folders/n2/shlj0pzn3fn2928f1734jn580000gn/T/ipykernel_11527/3161243915.py:12: FutureWarning: Unlike other reduction functions (e.g. `skew`, `kurtosis`), the default behavior of `mode` typically preserves the axis it acts along. In SciPy 1.11.0, this behavior will change: the default value of `keepdims` will become False, the `axis` over which the statistic is taken will be eliminated, and the value None will no longer be accepted. Set `keepdims` to True or False to avoid this warning.\n",
      "  mode_val = stats.mode(arr)[0][0]\n"
     ]
    }
   ],
   "source": [
    "from scipy import stats\n",
    "\n",
    "def compute_stats(arr):\n",
    "    \n",
    "    # Compute the mean\n",
    "    mean_val = np.mean(arr)\n",
    "    \n",
    "    # Compute the median\n",
    "    median_val = np.median(arr)\n",
    "    \n",
    "    # Compute the mode\n",
    "    mode_val = stats.mode(arr)[0][0]\n",
    "    \n",
    "    return mean_val, median_val, mode_val\n",
    "\n",
    "# Example usage\n",
    "data = np.array([1, 2, 3, 4, 2, 3, 4, 1, 2, 3])\n",
    "mean, median, mode = compute_stats(data)\n",
    "print(\"Mean:\", mean, \"Median:\", median,  \"Mode:\", mode)"
   ]
  },
  {
   "cell_type": "markdown",
   "id": "2a6bfefb",
   "metadata": {},
   "source": [
    "28. How to concatenate two pandas DataFrames?\n",
    "29. Create a Python function to generate all possible permutations of a list.\n",
    "30. Write a NumPy program to find the indices of the maximum and minimum values along the given axis of an array.\n",
    "31. Implement a function to check if a string contains only digits.\n",
    "32. Write a Python function to check if a given year is a leap year.\n",
    "33. How to drop missing values from a pandas DataFrame?\n",
    "34. Create a NumPy array with random floats between 0 and 1.\n",
    "35. Write a Python function to calculate the power of a number using recursion.\n",
    "36. Implement a function to calculate the factorial of a number using dynamic programming.\n",
    "37. Write a NumPy program to compute the outer product of two given vectors.\n",
    "38. How to convert a pandas DataFrame to a NumPy array?\n",
    "39. Create a Python function to check if a given string is a valid email address.\n",
    "40. Write a NumPy program to compute the cross product of two given vectors.\n",
    "41. Implement a function to check if a list is sorted in ascending order.\n",
    "42. Write a Python function to find the longest common prefix of a list of strings.\n",
    "43. How to drop duplicate rows from a pandas DataFrame?\n",
    "44. Create a NumPy array with evenly spaced values between 1 and 10.\n",
    "45. Write a Python function to find the GCD (Greatest Common Divisor) of two numbers.\n",
    "46. Implement a function to check if a string contains only vowels.\n",
    "47. Write a NumPy program to compute the eigenvalues and eigenvectors of a given square array.\n",
    "48. How to group rows in a pandas DataFrame by a specific column?\n",
    "49. Create a Python function to check if a given string is a valid IPv4 address.\n",
    "50. Write a NumPy program to compute the percentile of a given NumPy array."
   ]
  }
 ],
 "metadata": {
  "kernelspec": {
   "display_name": "Python 3 (ipykernel)",
   "language": "python",
   "name": "python3"
  },
  "language_info": {
   "codemirror_mode": {
    "name": "ipython",
    "version": 3
   },
   "file_extension": ".py",
   "mimetype": "text/x-python",
   "name": "python",
   "nbconvert_exporter": "python",
   "pygments_lexer": "ipython3",
   "version": "3.10.9"
  }
 },
 "nbformat": 4,
 "nbformat_minor": 5
}
