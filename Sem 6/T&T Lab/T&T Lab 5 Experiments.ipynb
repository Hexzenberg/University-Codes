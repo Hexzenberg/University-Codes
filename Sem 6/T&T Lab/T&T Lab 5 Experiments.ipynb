{
 "cells": [
  {
   "cell_type": "markdown",
   "id": "5ad3864a",
   "metadata": {},
   "source": [
    "Experiment-7: Create a list of numbers and perform various operations such as adding elements, removing elements, and accessing elements by index."
   ]
  },
  {
   "cell_type": "code",
   "execution_count": 12,
   "id": "887e463d",
   "metadata": {},
   "outputs": [
    {
     "name": "stdout",
     "output_type": "stream",
     "text": [
      "[1, 2, 3, 4, 5, 6]\n",
      "[1, 2, 3, 5, 6]\n",
      "5\n",
      "3 6\n"
     ]
    }
   ],
   "source": [
    "# Declaring a simple list\n",
    "list = [1, 2, 3, 4, 5]\n",
    "\n",
    "# Adding a new element to the list\n",
    "list.append(6)\n",
    "\n",
    "# Outputing the list\n",
    "print(list)\n",
    "\n",
    "# Removing an element from the list\n",
    "list.remove(4)\n",
    "\n",
    "# Outputing the list\n",
    "print(list)\n",
    "\n",
    "# Printing the length of the list\n",
    "print(len(list))\n",
    "\n",
    "# printing some elements of the list by accessing them through their indices\n",
    "print(list[2], list[4])"
   ]
  },
  {
   "cell_type": "markdown",
   "id": "9aaa3e86",
   "metadata": {},
   "source": [
    "Experiment-8: Create a tuple to represent an immutable collection and try accessing elements and performing basic operations."
   ]
  },
  {
   "cell_type": "code",
   "execution_count": 11,
   "id": "c660cd39",
   "metadata": {},
   "outputs": [
    {
     "name": "stdout",
     "output_type": "stream",
     "text": [
      "3\n",
      "<class 'tuple'>\n",
      "And Hurts\n"
     ]
    }
   ],
   "source": [
    "# Declaring a simple tuple:\n",
    "tuple = (\"And\", \"Nothing\", \"Hurts\")\n",
    "\n",
    "# Tuples are immutable therefore adding and removing elements is not possible hence doing the other possible operations\n",
    "\n",
    "# Printing the length of the tuple \n",
    "print(len(tuple))\n",
    "\n",
    "# Printing the type of the tuple\n",
    "print(type(tuple))\n",
    "\n",
    "# printing some elements of the tuple by accessing them through their indices\n",
    "print(tuple[0], tuple[2])"
   ]
  },
  {
   "cell_type": "markdown",
   "id": "ab451540",
   "metadata": {},
   "source": [
    "Experiment-9: Create a set to store unique elements and perform set operations such as union, intersection, and difference."
   ]
  },
  {
   "cell_type": "code",
   "execution_count": 16,
   "id": "5b017c4b",
   "metadata": {},
   "outputs": [
    {
     "name": "stdout",
     "output_type": "stream",
     "text": [
      "3\n",
      "<class 'set'>\n",
      "{'am', 'finally', 'I'}\n"
     ]
    }
   ],
   "source": [
    "# Declaring a simple set\n",
    "set = {\"I\", \"am\", \"finally\"}\n",
    "\n",
    "# Sets are immutable so I will just type the simple operations for the set data structure\n",
    "\n",
    "# Printing the length of the set\n",
    "print(len(set))\n",
    "\n",
    "# Printing the type of the string\n",
    "print(type(set))\n",
    "\n",
    "# Printing few values using indices is not possible for sets\n",
    "print(set)"
   ]
  },
  {
   "cell_type": "markdown",
   "id": "1e06ce96",
   "metadata": {},
   "source": [
    "Experiment-10: Create a dictionary to represent key-value pairs and perform operations like adding, updating, and accessing values."
   ]
  },
  {
   "cell_type": "code",
   "execution_count": 20,
   "id": "41f49a0e",
   "metadata": {},
   "outputs": [
    {
     "name": "stdout",
     "output_type": "stream",
     "text": [
      "3\n",
      "<class 'dict'>\n",
      "Hurts\n",
      "{1: 'Nothing', 2: 'Hurts', 3: 'Anymore', 4: 'I', 5: 'Free'}\n",
      "{1: 'Nothing', 2: 'Hurts', 3: 'There', 4: 'I', 5: 'Free'}\n"
     ]
    }
   ],
   "source": [
    "# Declaring a sipmle dictionary\n",
    "dict = {1:\"Nothing\", 2:\"Hurts\", 3:\"Anymore\"}\n",
    "\n",
    "# Printing the length of the dictionary\n",
    "print(len(dict))\n",
    "\n",
    "# Printing the type of the dictionary\n",
    "print(type(dict))\n",
    "\n",
    "# Printing some of the elements of the dictionary using corresponding key values\n",
    "print(dict[2])\n",
    "\n",
    "# Adding some elements to the dictionary \n",
    "dict.update({4: 'I', 5: 'Free'})\n",
    "\n",
    "# Printing the dict\n",
    "print(dict)\n",
    "\n",
    "# Updating some elements in the dictionary\n",
    "dict.update({3: 'There'})\n",
    "\n",
    "# Printing the dict\n",
    "print(dict)"
   ]
  }
 ],
 "metadata": {
  "kernelspec": {
   "display_name": "Python 3 (ipykernel)",
   "language": "python",
   "name": "python3"
  },
  "language_info": {
   "codemirror_mode": {
    "name": "ipython",
    "version": 3
   },
   "file_extension": ".py",
   "mimetype": "text/x-python",
   "name": "python",
   "nbconvert_exporter": "python",
   "pygments_lexer": "ipython3",
   "version": "3.10.9"
  }
 },
 "nbformat": 4,
 "nbformat_minor": 5
}
