{
 "cells": [
  {
   "cell_type": "code",
   "execution_count": 2,
   "id": "caba2429",
   "metadata": {},
   "outputs": [
    {
     "name": "stdout",
     "output_type": "stream",
     "text": [
      "Welcome to the Guessing Game!\n",
      "Try to guess the secret number between 1 and 100.\n",
      "Enter your guess: 23\n",
      "Too low! Try again.\n",
      "Enter your guess: 45\n",
      "Too low! Try again.\n",
      "Enter your guess: 78\n",
      "Too low! Try again.\n",
      "Enter your guess: 89\n",
      "Too low! Try again.\n",
      "Enter your guess: 90\n",
      "Too low! Try again.\n",
      "Enter your guess: 99\n",
      "Too high! Try again.\n",
      "Enter your guess: 95\n",
      "Too high! Try again.\n",
      "Enter your guess: 93\n",
      "Congratulations! You guessed the correct number.\n"
     ]
    }
   ],
   "source": [
    "import random\n",
    "\n",
    "# Generate a random number between 1 and 100\n",
    "secret_number = random.randint(1, 100)\n",
    "    \n",
    "print(\"Welcome to the Guessing Game!\")\n",
    "print(\"Try to guess the secret number between 1 and 100.\")\n",
    "    \n",
    "while True:\n",
    "        # Get user's guess\n",
    "        user_guess = int(input(\"Enter your guess: \"))\n",
    "        \n",
    "        # Check if the guess is correct\n",
    "        if user_guess == secret_number:\n",
    "            print(\"Congratulations! You guessed the correct number.\")\n",
    "            break  # Exit the loop when the correct guess is made\n",
    "        elif user_guess < secret_number:\n",
    "            print(\"Too low! Try again.\")\n",
    "            continue\n",
    "        else:\n",
    "            print(\"Too high! Try again.\")\n",
    "            continue\n",
    "        \n",
    "        # Ask if the user wants to play again\n",
    "        play_again = input(\"Do you want to play again? (yes/no): \").lower()\n",
    "        if play_again != 'yes':\n",
    "            print(f\"The secret number was {secret_number}. Thanks for playing!\")\n",
    "            break  # Exit the loop if the user doesn't want to play again"
   ]
  },
  {
   "cell_type": "code",
   "execution_count": null,
   "id": "12b34c47",
   "metadata": {},
   "outputs": [],
   "source": []
  }
 ],
 "metadata": {
  "kernelspec": {
   "display_name": "Python 3 (ipykernel)",
   "language": "python",
   "name": "python3"
  },
  "language_info": {
   "codemirror_mode": {
    "name": "ipython",
    "version": 3
   },
   "file_extension": ".py",
   "mimetype": "text/x-python",
   "name": "python",
   "nbconvert_exporter": "python",
   "pygments_lexer": "ipython3",
   "version": "3.10.9"
  }
 },
 "nbformat": 4,
 "nbformat_minor": 5
}
