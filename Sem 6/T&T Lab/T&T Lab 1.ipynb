{
 "cells": [
  {
   "cell_type": "code",
   "execution_count": 1,
   "id": "8b5c3b7e",
   "metadata": {
    "scrolled": true
   },
   "outputs": [
    {
     "name": "stdout",
     "output_type": "stream",
     "text": [
      "Enter 1st number:\n",
      "2\n",
      "Enter 2nd number:\n",
      "3\n",
      "Sum of  2  and  3  is  5\n"
     ]
    }
   ],
   "source": [
    "# Find the sum of 2 numbers\n",
    "num_1 = int(input(\"Enter 1st number:\\n\"))\n",
    "num_2 = int(input(\"Enter 2nd number:\\n\"))\n",
    "print(\"Sum of \", num_1 , \" and \", num_2, \" is \", num_1 + num_2)"
   ]
  },
  {
   "cell_type": "code",
   "execution_count": 2,
   "id": "494916a9",
   "metadata": {},
   "outputs": [
    {
     "name": "stdout",
     "output_type": "stream",
     "text": [
      "Enter 1st number\n",
      "2\n",
      "Enter 2nd number\n",
      "3.56\n",
      "Sum of  2.0  and  3.56  =  5.5600000000000005\n"
     ]
    }
   ],
   "source": [
    "# Find the sum of 2 floating numbers\n",
    "num_1 = float(input(\"Enter 1st number:\\n\"))\n",
    "num_2 = float(input(\"Enter 2nd number:\\n\"))\n",
    "print(\"Sum of \", num_1, \" and \", num_2, \" = \", num_1 + num_2)"
   ]
  },
  {
   "cell_type": "code",
   "execution_count": 4,
   "id": "1ea956df",
   "metadata": {},
   "outputs": [
    {
     "name": "stdout",
     "output_type": "stream",
     "text": [
      "Enter a number:\n",
      "5\n",
      "Square of  5  is  25\n"
     ]
    }
   ],
   "source": [
    "# Find the square of a number\n",
    "num = int(input(\"Enter a number:\\n\"))\n",
    "print(\"Square of \", num ,\" is \", num ** 2)"
   ]
  },
  {
   "cell_type": "code",
   "execution_count": 5,
   "id": "6bea436c",
   "metadata": {},
   "outputs": [
    {
     "name": "stdout",
     "output_type": "stream",
     "text": [
      "Enter 1st number:\n",
      "3\n",
      "Enter 2nd number:\n",
      "4\n",
      "Before swapping first number =  3  second number =  4\n",
      "After swapping first number =  4  second number =  3\n"
     ]
    }
   ],
   "source": [
    "# Swap two numbers\n",
    "num_1 = int(input(\"Enter 1st number:\\n\"))\n",
    "num_2 = int(input(\"Enter 2nd number:\\n\"))\n",
    "print(\"Before swapping first number = \", num_1,\" second number = \", num_2)\n",
    "num_1 += num_2\n",
    "num_2 = num_1 - num_2\n",
    "num_1 -= num_2\n",
    "print(\"After swapping first number = \", num_1,\" second number = \", num_2)"
   ]
  },
  {
   "cell_type": "code",
   "execution_count": 7,
   "id": "e7ca707b",
   "metadata": {},
   "outputs": [
    {
     "name": "stdout",
     "output_type": "stream",
     "text": [
      "Enter the dimensions of the triangle:\n",
      "\n",
      "4\n",
      "5\n",
      "Area of the triangle:  10.0\n"
     ]
    }
   ],
   "source": [
    "# Find area of a triangle\n",
    "print(\"Enter the dimensions of the triangle:\\n\")\n",
    "base = int(input())\n",
    "height = int(input())\n",
    "print(\"Area of the triangle: \", 0.5 * base * height)"
   ]
  },
  {
   "cell_type": "code",
   "execution_count": 11,
   "id": "0c3175c3",
   "metadata": {
    "scrolled": true
   },
   "outputs": [
    {
     "name": "stdout",
     "output_type": "stream",
     "text": [
      "Enter side of the square:\n",
      "5\n",
      "Area of the square:  25  sq unit\n"
     ]
    }
   ],
   "source": [
    "# Find area of a square\n",
    "side = int(input(\"Enter side of the square:\\n\"))\n",
    "print(\"Area of the square: \", side * side, \" sq unit\")"
   ]
  },
  {
   "cell_type": "code",
   "execution_count": 19,
   "id": "7083727f",
   "metadata": {},
   "outputs": [
    {
     "name": "stdout",
     "output_type": "stream",
     "text": [
      "Enter length and width of the rectangle:\n",
      "\n",
      "6\n",
      "7\n",
      "Area of the rectangle is:  42  sq unit\n"
     ]
    }
   ],
   "source": [
    "# Find area of a rectangle\n",
    "print(\"Enter length and width of the rectangle:\\n\")\n",
    "length = int(input())\n",
    "width = int(input())\n",
    "print(\"Area of the rectangle is: \", length * width, \" sq unit\")"
   ]
  },
  {
   "cell_type": "code",
   "execution_count": 15,
   "id": "4854be14",
   "metadata": {},
   "outputs": [
    {
     "name": "stdout",
     "output_type": "stream",
     "text": [
      "Enter radius of the circle:\n",
      "7\n",
      "Area of the circle:  153.86  sq unit\n"
     ]
    }
   ],
   "source": [
    "# Find area of a circle\n",
    "radius = int(input(\"Enter radius of the circle:\\n\"))\n",
    "print(\"Area of the circle: \", 3.14 * radius * radius, \" sq unit\")"
   ]
  },
  {
   "cell_type": "code",
   "execution_count": 17,
   "id": "075a1621",
   "metadata": {},
   "outputs": [
    {
     "name": "stdout",
     "output_type": "stream",
     "text": [
      "Enter the side of the regular pentagon:\n",
      "5\n",
      "Area of the pentagon =  43.01193501472417  sq unit\n"
     ]
    }
   ],
   "source": [
    "# Find area of a pentagon\n",
    "CONST = (5*(5 + 2 * (5 ** 0.5))) ** 0.5\n",
    "side = int(input(\"Enter the side of the regular pentagon:\\n\"))\n",
    "print(\"Area of the pentagon = \", 0.25 * CONST * side * side, \" sq unit\")"
   ]
  },
  {
   "cell_type": "code",
   "execution_count": 20,
   "id": "89f2d5c2",
   "metadata": {},
   "outputs": [
    {
     "name": "stdout",
     "output_type": "stream",
     "text": [
      "Enter the side of the regular hexagon:\n",
      "5\n",
      "Area of  64.9519052838329  sq unit\n"
     ]
    }
   ],
   "source": [
    "# Find area of a hexagon\n",
    "side = int(input(\"Enter the side of the regular hexagon:\\n\"))\n",
    "print(\"Area of \", 3 * (3 ** 0.5) * 0.5 * side * side, \" sq unit\")"
   ]
  },
  {
   "cell_type": "code",
   "execution_count": 21,
   "id": "5e7e5352",
   "metadata": {},
   "outputs": [
    {
     "name": "stdout",
     "output_type": "stream",
     "text": [
      "Enter a number:\n",
      "4\n",
      "The number is even\n"
     ]
    }
   ],
   "source": [
    "# Check whether a number is even or odd\n",
    "num = int(input(\"Enter a number:\\n\"))\n",
    "print(\"The number is even\" if(a%2 == 0) else \"The number is odd\")"
   ]
  }
 ],
 "metadata": {
  "kernelspec": {
   "display_name": "Python 3 (ipykernel)",
   "language": "python",
   "name": "python3"
  },
  "language_info": {
   "codemirror_mode": {
    "name": "ipython",
    "version": 3
   },
   "file_extension": ".py",
   "mimetype": "text/x-python",
   "name": "python",
   "nbconvert_exporter": "python",
   "pygments_lexer": "ipython3",
   "version": "3.10.9"
  }
 },
 "nbformat": 4,
 "nbformat_minor": 5
}
