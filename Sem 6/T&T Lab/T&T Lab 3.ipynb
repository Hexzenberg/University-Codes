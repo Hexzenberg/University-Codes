{
 "cells": [
  {
   "cell_type": "markdown",
   "id": "0212e8a1",
   "metadata": {},
   "source": [
    "#Flow Control: Branching: if..else, Looping: while, for, Others: break, continue &amp; pass statements in\n",
    "flow control."
   ]
  },
  {
   "cell_type": "code",
   "execution_count": 3,
   "id": "4ac69052",
   "metadata": {},
   "outputs": [
    {
     "name": "stdout",
     "output_type": "stream",
     "text": [
      "The first if program!\n",
      "\n",
      "Enter a number:23\n",
      "End of the first program!\n"
     ]
    }
   ],
   "source": [
    "#If Program\n",
    "print(\"The first if program!\\n\")\n",
    "\n",
    "#Declaring variable to take input from the user\n",
    "a = int(input(\"Enter a number:\"))\n",
    "\n",
    "#Checking the condition if the entered number is even\n",
    "if a % 2 == 0:\n",
    "    print(\"The number is even!\\n\")\n",
    "\n",
    "#end of the program statement\n",
    "print(\"End of the first program!\")"
   ]
  },
  {
   "cell_type": "code",
   "execution_count": 4,
   "id": "b8f500b6",
   "metadata": {},
   "outputs": [
    {
     "name": "stdout",
     "output_type": "stream",
     "text": [
      "The second if program!\n",
      "\n",
      "Enter a number:23\n",
      "The number is odd!\n",
      "\n",
      "End of the second program!\n"
     ]
    }
   ],
   "source": [
    "#If Program\n",
    "print(\"The second if program!\\n\")\n",
    "\n",
    "#Declaring variable to take input from the user\n",
    "a = int(input(\"Enter a number:\"))\n",
    "\n",
    "#Checking the condition if the entered number is even\n",
    "if a % 2 != 0:\n",
    "    print(\"The number is odd!\\n\")\n",
    "\n",
    "#end of the program statement\n",
    "print(\"End of the second program!\")"
   ]
  },
  {
   "cell_type": "code",
   "execution_count": 1,
   "id": "2125a133",
   "metadata": {},
   "outputs": [
    {
     "name": "stdout",
     "output_type": "stream",
     "text": [
      "This is a program for if else:\n",
      "\n",
      "Enter a number:23\n",
      "The entered number is odd!\n"
     ]
    }
   ],
   "source": [
    "#if else program\n",
    "print(\"First if else program!\\n\")\n",
    "\n",
    "#Declaring variables to take input from the user\n",
    "a = int(input(\"Enter a number:\"))\n",
    "\n",
    "#Conditions for checking if the number is even \n",
    "if a % 2 == 0:\n",
    "    print(\"The entered number is even!\")\n",
    "#Incase the entered number is odd\n",
    "else:\n",
    "    print(\"The entered number is odd!\")"
   ]
  },
  {
   "cell_type": "code",
   "execution_count": 2,
   "id": "79d0ecd3",
   "metadata": {},
   "outputs": [
    {
     "name": "stdout",
     "output_type": "stream",
     "text": [
      "Second if else program!\n",
      "\n",
      "Enter a number:23\n",
      "The entered number is positive!\n"
     ]
    }
   ],
   "source": [
    "#second if else program\n",
    "print(\"Second if else program!\\n\")\n",
    "\n",
    "#Declaring variable to take input from the user\n",
    "a = int(input(\"Enter a number:\"))\n",
    "\n",
    "#Conditions for checking if the number is positive\n",
    "if a > 0:\n",
    "    print(\"The entered number is positive!\")\n",
    "#When the number is 0\n",
    "elif a == 0:\n",
    "    print(\"The entered number is neither!\")\n",
    "#If the number is negative\n",
    "else:\n",
    "    print(\"The entered number is negative!\")"
   ]
  },
  {
   "cell_type": "code",
   "execution_count": 6,
   "id": "0020a0b0",
   "metadata": {},
   "outputs": [
    {
     "name": "stdout",
     "output_type": "stream",
     "text": [
      "The first switch(match) case program!\n",
      "Enter a number between 1 to 5:3\n",
      "The entered number is 3\n"
     ]
    }
   ],
   "source": [
    "#First Match case program\n",
    "print(\"The first switch(match) case program!\")\n",
    "\n",
    "#Declaring variable to take user input\n",
    "a = int(input(\"Enter a number between 1 to 5:\"))\n",
    "\n",
    "#Match case to check the entered number\n",
    "match a:\n",
    "    case 1:\n",
    "        print(\"The entered number is 1\")\n",
    "    case 2:\n",
    "        print(\"The entered number is 2\")\n",
    "    case 3:\n",
    "        print(\"The entered number is 3\")\n",
    "    case 4:\n",
    "        print(\"The entered number is 4\")\n",
    "    case 5:\n",
    "        print(\"The entered number is 5\")\n",
    "    case _:\n",
    "        print(\"The entered number is not in the specified range\")"
   ]
  },
  {
   "cell_type": "markdown",
   "id": "15153ae6",
   "metadata": {},
   "source": [
    "Example 1: Print the first 10 natural numbers using for loop."
   ]
  },
  {
   "cell_type": "code",
   "execution_count": 9,
   "id": "cfd2c4e1",
   "metadata": {},
   "outputs": [
    {
     "name": "stdout",
     "output_type": "stream",
     "text": [
      "1\n",
      "2\n",
      "3\n",
      "4\n",
      "5\n",
      "6\n",
      "7\n",
      "8\n",
      "9\n",
      "10\n"
     ]
    }
   ],
   "source": [
    "for a in range(1, 11):\n",
    "    print(a)"
   ]
  },
  {
   "cell_type": "markdown",
   "id": "c456074f",
   "metadata": {},
   "source": [
    "Example 2: Python program to print all the even numbers within the given range.\n"
   ]
  },
  {
   "cell_type": "code",
   "execution_count": 14,
   "id": "23afa32d",
   "metadata": {},
   "outputs": [
    {
     "name": "stdout",
     "output_type": "stream",
     "text": [
      "Enter the lower end of the range:20\n",
      "Enter the upper end of the range:23\n",
      "20\n",
      "22\n"
     ]
    }
   ],
   "source": [
    "#Declaring varibles to use as range\n",
    "a = int(input(\"Enter the lower end of the range:\"))\n",
    "b = int(input(\"Enter the upper end of the range:\"))\n",
    "\n",
    "#Printing the even numbers present in a range\n",
    "for c in range(a, b):\n",
    "    #Even numbers condition\n",
    "    if c % 2 == 0:\n",
    "        print(c)"
   ]
  },
  {
   "cell_type": "markdown",
   "id": "c2921be7",
   "metadata": {},
   "source": [
    "Example 3: Python program to calculate the sum of all numbers from 1 to a given number."
   ]
  },
  {
   "cell_type": "code",
   "execution_count": 16,
   "id": "883ebba7",
   "metadata": {},
   "outputs": [
    {
     "name": "stdout",
     "output_type": "stream",
     "text": [
      "Enter the number till where you want the sum:20\n",
      "The sum is  190\n"
     ]
    }
   ],
   "source": [
    "#Declaring variable to get the sum\n",
    "a = int(input(\"Enter the number till where you want the sum:\"))\n",
    "s = 0\n",
    "\n",
    "#Calculating and printing the sum\n",
    "for c in range(1, a):\n",
    "    s += c\n",
    "\n",
    "#Printing the sum\n",
    "print(\"The sum is \", s)"
   ]
  },
  {
   "cell_type": "markdown",
   "id": "f2fbfdd2",
   "metadata": {},
   "source": [
    "Example 4: Python program to calculate the sum of all the odd numbers within the given range."
   ]
  },
  {
   "cell_type": "code",
   "execution_count": 17,
   "id": "8de15684",
   "metadata": {},
   "outputs": [
    {
     "name": "stdout",
     "output_type": "stream",
     "text": [
      "Enter the lower end of the range:1\n",
      "Enter the upper end of the range:20\n",
      "The sum is  100\n"
     ]
    }
   ],
   "source": [
    "#Declaring variable to get the sum and to use as range\n",
    "a = int(input(\"Enter the lower end of the range:\"))\n",
    "b = int(input(\"Enter the upper end of the range:\"))\n",
    "s = 0\n",
    "\n",
    "#Calculating the sum if the number is odd\n",
    "for c in range(a, b):\n",
    "    if c % 2 != 0:\n",
    "        s += c\n",
    "\n",
    "#Printing the sum\n",
    "print(\"The sum is \", s)"
   ]
  },
  {
   "cell_type": "markdown",
   "id": "9b8073e5",
   "metadata": {},
   "source": [
    "Example 5: Python program to print a multiplication table of a given number"
   ]
  },
  {
   "cell_type": "code",
   "execution_count": 18,
   "id": "9c8fcd93",
   "metadata": {},
   "outputs": [
    {
     "name": "stdout",
     "output_type": "stream",
     "text": [
      "Enter the number you want the table of:2\n",
      "1  x  2  =  2\n",
      "2  x  2  =  4\n",
      "3  x  2  =  6\n",
      "4  x  2  =  8\n",
      "5  x  2  =  10\n",
      "6  x  2  =  12\n",
      "7  x  2  =  14\n",
      "8  x  2  =  16\n",
      "9  x  2  =  18\n",
      "10  x  2  =  20\n"
     ]
    }
   ],
   "source": [
    "#Declaring a number to print the table\n",
    "a = int(input(\"Enter the number you want the table of:\"))\n",
    "\n",
    "#Printing the table\n",
    "for n in range(1, 11):\n",
    "    print(a, \" x \", n, \" = \", n * a)"
   ]
  },
  {
   "cell_type": "markdown",
   "id": "e146d484",
   "metadata": {},
   "source": [
    "Example 6: Python program to display numbers from a list using a for loop."
   ]
  },
  {
   "cell_type": "code",
   "execution_count": 19,
   "id": "eaaf03f4",
   "metadata": {},
   "outputs": [
    {
     "name": "stdout",
     "output_type": "stream",
     "text": [
      "1\n",
      "2\n",
      "3\n",
      "4\n"
     ]
    }
   ],
   "source": [
    "#Declaring a list\n",
    "list_one = [1, 2, 3, 4]\n",
    "\n",
    "#Printing the list\n",
    "for a in list_one:\n",
    "    print(a)"
   ]
  },
  {
   "cell_type": "markdown",
   "id": "b5f7768a",
   "metadata": {},
   "source": [
    "Example 7: Python program to count the total number of digits in a number."
   ]
  },
  {
   "cell_type": "code",
   "execution_count": 24,
   "id": "855f903d",
   "metadata": {},
   "outputs": [
    {
     "name": "stdout",
     "output_type": "stream",
     "text": [
      "Enter a number:23\n",
      "2\n"
     ]
    }
   ],
   "source": [
    "#Declaring the variable to use for input\n",
    "a = int(input(\"Enter a number:\"))\n",
    "s = 0\n",
    "\n",
    "#Printing the total number of digits\n",
    "while a != 0:\n",
    "    s += 1\n",
    "    a //= 10\n",
    "\n",
    "#printing the number of digits\n",
    "print(s)"
   ]
  },
  {
   "cell_type": "markdown",
   "id": "4f404b8d",
   "metadata": {},
   "source": [
    "Example 8: Python program to check if the given string is a palindrome."
   ]
  },
  {
   "cell_type": "code",
   "execution_count": 25,
   "id": "090d411f",
   "metadata": {},
   "outputs": [
    {
     "name": "stdout",
     "output_type": "stream",
     "text": [
      "Enter a string to check for palindrome:aabbaa\n",
      "Palindrome!\n"
     ]
    }
   ],
   "source": [
    "#Declaring the string to take input\n",
    "s = input(\"Enter a string to check for palindrome:\")\n",
    "\n",
    "#Checking for palindrome and printing it\n",
    "if s == s[::-1]:\n",
    "    print(\"Palindrome!\")\n",
    "else:\n",
    "    print(\"Not a palindrome!\")"
   ]
  },
  {
   "cell_type": "markdown",
   "id": "f7685b2c",
   "metadata": {},
   "source": [
    "Example 9: Python program that accepts a word from the user and reverses it."
   ]
  },
  {
   "cell_type": "code",
   "execution_count": 26,
   "id": "a4457d4d",
   "metadata": {},
   "outputs": [
    {
     "name": "stdout",
     "output_type": "stream",
     "text": [
      "Enter a word: Garvit\n",
      "Reversed word: tivraG\n"
     ]
    }
   ],
   "source": [
    "#Declaring the variable to use for input\n",
    "input_word = input(\"Enter a word: \")\n",
    "\n",
    "#Printing the reverse of the word\n",
    "print(\"Reversed word:\", input_word[::-1])"
   ]
  },
  {
   "cell_type": "markdown",
   "id": "43278489",
   "metadata": {},
   "source": [
    "Example 10: Python program to check if a given number is an Armstrong number"
   ]
  },
  {
   "cell_type": "code",
   "execution_count": 27,
   "id": "bd1b15b8",
   "metadata": {},
   "outputs": [
    {
     "name": "stdout",
     "output_type": "stream",
     "text": [
      "Enter a number: 153\n",
      "Armstrong number!\n"
     ]
    }
   ],
   "source": [
    "#Declaring the function \n",
    "def is_armstrong(num):\n",
    "    num_str = str(num)\n",
    "    n = len(num_str)\n",
    "    sum_of_digits = sum(int(digit) ** n for digit in num_str)\n",
    "    return sum_of_digits == num\n",
    "\n",
    "#Declaring the variable to take input\n",
    "num = int(input(\"Enter a number: \"))\n",
    "\n",
    "#Printing the result\n",
    "if is_armstrong(num):\n",
    "    print(\"Armstrong number!\")\n",
    "else:\n",
    "    print(\"Not an Armstrong number!\")"
   ]
  },
  {
   "cell_type": "markdown",
   "id": "6871a5f1",
   "metadata": {},
   "source": [
    "Example 11: Python program to count the number of even and odd numbers from a series of numbers."
   ]
  },
  {
   "cell_type": "code",
   "execution_count": 28,
   "id": "01189a08",
   "metadata": {},
   "outputs": [
    {
     "name": "stdout",
     "output_type": "stream",
     "text": [
      "Enter numbers separated by space: 23 3 45 65 2 3 5\n",
      "Even numbers: 1 \n",
      "Odd numbers: 6\n"
     ]
    }
   ],
   "source": [
    "#Taking the input of a list of numbers\n",
    "numbers = list(map(int, input(\"Enter numbers separated by space: \").split()))\n",
    "\n",
    "#Counting the number of even numbers from the list\n",
    "even_count = sum(1 for num in numbers if num % 2 == 0)\n",
    "\n",
    "'''Calculating the number of odd numbers from the list by substracting the number of even numbers from the \n",
    "total number of digits'''\n",
    "odd_count = len(numbers) - even_count\n",
    "\n",
    "#Printing the result\n",
    "print(\"Even numbers:\", even_count, \"\\nOdd numbers:\", odd_count)\n"
   ]
  },
  {
   "cell_type": "markdown",
   "id": "5435ee01",
   "metadata": {},
   "source": [
    "Example 12: Python program to display all numbers within a range except the prime numbers."
   ]
  },
  {
   "cell_type": "code",
   "execution_count": 29,
   "id": "2e6e0c65",
   "metadata": {},
   "outputs": [
    {
     "name": "stdout",
     "output_type": "stream",
     "text": [
      "Enter the lower bound of the range: 20 \n",
      "Enter the upper bound of the range: 40\n",
      "Numbers within the range except primes:\n",
      "20 21 22 24 25 26 27 28 30 32 33 34 35 36 38 39 40 "
     ]
    }
   ],
   "source": [
    "#Declared function to check for prime number\n",
    "def is_prime(num):\n",
    "    #If the number is less than 2 then it is not prime \n",
    "    if num < 2:\n",
    "        return False\n",
    "    #If the number is not prime then return false\n",
    "    for i in range(2, int(num ** 0.5) + 1):\n",
    "        if num % i == 0:\n",
    "            return False\n",
    "    #The number is prime\n",
    "    return True\n",
    "\n",
    "#Declaring variables to take the range as input\n",
    "lower_bound = int(input(\"Enter the lower bound of the range: \"))\n",
    "upper_bound = int(input(\"Enter the upper bound of the range: \"))\n",
    "\n",
    "#Printing the result\n",
    "print(\"Numbers within the range except primes:\")\n",
    "for num in range(lower_bound, upper_bound + 1):\n",
    "    if not is_prime(num):\n",
    "        print(num, end=\" \")"
   ]
  },
  {
   "cell_type": "markdown",
   "id": "f7014574",
   "metadata": {},
   "source": [
    "Example 13: Python program to get the Fibonacci series between 0 to 50."
   ]
  },
  {
   "cell_type": "code",
   "execution_count": 30,
   "id": "38984623",
   "metadata": {},
   "outputs": [
    {
     "name": "stdout",
     "output_type": "stream",
     "text": [
      "Fibonacci series between 0 to 50: [0, 1, 1, 2, 3, 5, 8, 13, 21, 34]\n"
     ]
    }
   ],
   "source": [
    "#Declaring the function for fibonacci series\n",
    "def fibonacci_series(n):\n",
    "    #The first two elements of fibonacci series\n",
    "    fib_series = [0, 1]\n",
    "    while fib_series[-1] + fib_series[-2] <= n:\n",
    "        #Calculating the fibonacci sum and then appending to the list\n",
    "        fib_series.append(fib_series[-1] + fib_series[-2])\n",
    "    return fib_series\n",
    "\n",
    "#Printing the fibonacci numbers\n",
    "print(\"Fibonacci series between 0 to 50:\", fibonacci_series(50))"
   ]
  },
  {
   "cell_type": "markdown",
   "id": "cf3ee3bd",
   "metadata": {},
   "source": [
    "Example 14: Python program to find the factorial of a given number."
   ]
  },
  {
   "cell_type": "code",
   "execution_count": 31,
   "id": "6b0b8be4",
   "metadata": {},
   "outputs": [
    {
     "name": "stdout",
     "output_type": "stream",
     "text": [
      "Enter a number: 5\n",
      "Factorial of 5 is 120\n"
     ]
    }
   ],
   "source": [
    "#Declared a recursive function \n",
    "def factorial(num):\n",
    "    if num == 0:\n",
    "        return 1\n",
    "    else:\n",
    "        return num * factorial(num - 1)\n",
    "\n",
    "#Declaring a variable for input\n",
    "num = int(input(\"Enter a number: \"))\n",
    "\n",
    "#Printing the factorial of the entered number\n",
    "print(\"Factorial of\", num, \"is\", factorial(num))"
   ]
  },
  {
   "cell_type": "markdown",
   "id": "a4a7e6db",
   "metadata": {},
   "source": [
    "Example 15: Python program that accepts a string and calculates the number of digits and letters."
   ]
  },
  {
   "cell_type": "code",
   "execution_count": 32,
   "id": "16ae78ec",
   "metadata": {},
   "outputs": [
    {
     "name": "stdout",
     "output_type": "stream",
     "text": [
      "Enter a string: There are 2 numbers in this 3\n",
      "Number of digits: 2 \n",
      "Number of letters: 21\n"
     ]
    }
   ],
   "source": [
    "#Declaring variable to take string input\n",
    "input_str = input(\"Enter a string: \")\n",
    "#Counting the number of digits and letters\n",
    "digit_count = sum(1 for char in input_str if char.isdigit())\n",
    "letter_count = sum(1 for char in input_str if char.isalpha())\n",
    "\n",
    "#Printing the result\n",
    "print(\"Number of digits:\", digit_count, \"\\nNumber of letters:\", letter_count)"
   ]
  },
  {
   "cell_type": "markdown",
   "id": "02ddfc3f",
   "metadata": {},
   "source": [
    "Example 16: Write a Python program that iterates the integers from 1 to 25."
   ]
  },
  {
   "cell_type": "code",
   "execution_count": 33,
   "id": "d2088b94",
   "metadata": {},
   "outputs": [
    {
     "name": "stdout",
     "output_type": "stream",
     "text": [
      "1\n",
      "2\n",
      "3\n",
      "4\n",
      "5\n",
      "6\n",
      "7\n",
      "8\n",
      "9\n",
      "10\n",
      "11\n",
      "12\n",
      "13\n",
      "14\n",
      "15\n",
      "16\n",
      "17\n",
      "18\n",
      "19\n",
      "20\n",
      "21\n",
      "22\n",
      "23\n",
      "24\n",
      "25\n"
     ]
    }
   ],
   "source": [
    "for i in range(1, 26):\n",
    "    print(i)"
   ]
  },
  {
   "cell_type": "markdown",
   "id": "f7d2c8c6",
   "metadata": {},
   "source": [
    "Example 17: Python program to check the validity of password input by users."
   ]
  },
  {
   "cell_type": "code",
   "execution_count": 35,
   "id": "a5f8aa2a",
   "metadata": {},
   "outputs": [
    {
     "name": "stdout",
     "output_type": "stream",
     "text": [
      "Enter a password: asD@dfw\n",
      "Invalid password.\n"
     ]
    }
   ],
   "source": [
    "import re\n",
    "\n",
    "#Declaring the function to check for all the parameters to look for in a password\n",
    "def is_valid_password(password):\n",
    "    if len(password) < 8:\n",
    "        return False\n",
    "    elif not re.search(\"[a-z]\", password):\n",
    "        return False\n",
    "    elif not re.search(\"[A-Z]\", password):\n",
    "        return False\n",
    "    elif not re.search(\"[0-9]\", password):\n",
    "        return False\n",
    "    elif not re.search(\"[_@$]\", password):\n",
    "        return False\n",
    "    elif re.search(\"\\s\", password):\n",
    "        return False\n",
    "    return True\n",
    "\n",
    "#Declaring variable to take the password as input\n",
    "password = input(\"Enter a password: \")\n",
    "\n",
    "#Checking for a valid password by calling the declared function in the conditions\n",
    "if is_valid_password(password):\n",
    "    print(\"Valid password.\")\n",
    "else:\n",
    "    print(\"Invalid password.\")\n"
   ]
  },
  {
   "cell_type": "markdown",
   "id": "cf0eb685",
   "metadata": {},
   "source": [
    "Example 18: Python program to convert the month name to a number of days."
   ]
  },
  {
   "cell_type": "code",
   "execution_count": 34,
   "id": "a9b4ea4e",
   "metadata": {},
   "outputs": [
    {
     "name": "stdout",
     "output_type": "stream",
     "text": [
      "Enter the month name: January\n",
      "Number of days in January is 31\n"
     ]
    }
   ],
   "source": [
    "#Declaring the dictionary for the mapping of the months\n",
    "month_days = {\n",
    "    \"January\": 31, \"February\": 28, \"March\": 31, \"April\": 30, \"May\": 31, \"June\": 30,\n",
    "    \"July\": 31, \"August\": 31, \"September\": 30, \"October\": 31, \"November\": 30, \"December\": 31\n",
    "}\n",
    "\n",
    "#Declaring a variable to take the input from the user\n",
    "month_name = input(\"Enter the month name: \")\n",
    "\n",
    "#Checking for valid month name that was taken as input\n",
    "if month_name in month_days:\n",
    "    #Checking the month name from the dictionary to print the number of days\n",
    "    print(\"Number of days in\", month_name, \"is\", month_days[month_name])\n",
    "else:\n",
    "    #Invalid month name was entered\n",
    "    print(\"Invalid month name.\")"
   ]
  }
 ],
 "metadata": {
  "kernelspec": {
   "display_name": "Python 3 (ipykernel)",
   "language": "python",
   "name": "python3"
  },
  "language_info": {
   "codemirror_mode": {
    "name": "ipython",
    "version": 3
   },
   "file_extension": ".py",
   "mimetype": "text/x-python",
   "name": "python",
   "nbconvert_exporter": "python",
   "pygments_lexer": "ipython3",
   "version": "3.10.9"
  }
 },
 "nbformat": 4,
 "nbformat_minor": 5
}
