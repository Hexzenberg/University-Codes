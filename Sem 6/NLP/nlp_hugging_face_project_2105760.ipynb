{
 "cells": [
  {
   "cell_type": "markdown",
   "id": "812908f7",
   "metadata": {},
   "source": [
    "The following code uses the Google's T5 transformer to do the summarization of the text that is being input to the code through web scrapping from the official budget speech."
   ]
  },
  {
   "cell_type": "code",
   "execution_count": 1,
   "id": "8e36b724",
   "metadata": {},
   "outputs": [
    {
     "name": "stdout",
     "output_type": "stream",
     "text": [
      "Generated Summary:\n",
      " NIRMALA SITHARAMAN, minister of finance, presents the interim budget for 2024 -25 . the budget is expected to be released on january 1, 2023 . it will also be available on november 'sabka Saath, Sabka Vikas, and Sabka Vishwas' was the 'mantra' of the government . the people blessed the government wi th a bigger mandate . phy covered all elements of inclusivity, namely,  social inclusivity through coverage of all strata of the society . t he country overcame the challenge of a once -in-a-century pande ugh 'housing for all', 'har ghar jal', electricity for 3 all, cooking gas for all, bank accounts and financial services for all in record time . the worries about food have been eliminated through the saturation approach of covering all eligible people is the true and comprehensive achievement of social justice . this is secularism in action, reduces corruption, and prevents nepo tism (-) the earlier approach of tackling poverty through entitlements had resulted in very modest outcomes . with the pursuit of ‘Sabka ka Saath’ in these 10 years, the Government has assisted 25 crore people to get freedom from from that total, 2.3 lakh have received credit for the third time . the schemes for empowerment of Divyangs and transgender person s reflect firm resolve of our Government to leave no one behind . tor is poised for inclusive, balanced, higher growth and productivity . these are facilitated from farme r-centric policies, income support, coverage of risks through price and 6 insurance support, promotion of technologies and innovations through start - the country is proud of its youth scaling new heights in sports . the highest ever medal tally in Asian Games and Asian Para Games in 2023 reflects a high confidence level . india has over 80 chess grandmasters making ‘Triple Talaq’ illegal, reservation of one -third seats for w omen in the Lok Sabha and State legislative assemblies . giving over seventy per cent houses under PM Awas Yojana in rural average real income of the people has increased by fifty per cent . inflation is moderate. people are getting empowered, equipped and enabled to pursue their aspirations . all forms of infrastructure , physical, digital or social, are being built GIFT IFSC and the unified regulatory authority, IFSCA are creating a robust gateway for global capital and financial services for the economy . proactive inflation management has helped keep inflation within the policy band . a new world the recently announced India -Middle East -Europe Economic Corridor is a strategi c and economic game changer for India and others . the corridor \"will become the basis of world trade for hundreds of years to come, abka Prayas’ has the potential to fulfill aspirations of every Indian . government will adopt economic policies that foster and sustain growth . it will facilitate inclusive and sustainable development, improve productivity and create opportunities for all . icro, Small and Medium Enterprises (MSME) to grow and compete globally . orienting the regulatory envi ronment to facilitate their growth will be an important element of this policy mix . our government will facilitate two crore more houses will be taken up in the next five years to meet the requirement arising from increase in the number of families . through rooftop solarization, one crore households will be enabled to obtain up to 300 units free electri city every middle class 44. Our Government will launch a scheme to help deserving sections of the middle class to buy or build their own houses . medical colleges 45. Several youth are ambitious to get qualified as doctors. they aim to serve our people the newly designed U -WIN platform for managing immunization and intensified efforts of Mission Indradhanush will be rolled out expeditiously throughout the country . healthcare cove r under Ayushman Bhara ment in post -harvest activities including aggregation, modern storage, efficient supply chains, primary and secondary processing and marketing and branding . after the successful adoption of Nano Urea, application of Nano DAP on various crops will be ng schemes such as Rashtriya Gokul Mission, National Livestock Mission, and Infrastructure Development Funds f or dairy processing and animal husbandry . it was our Government which set up a separate Department for Fisheries realizing the new age technologies and data are changing the lives of people and businesses . opportunities for india at the global level are 17 expanding . india is showing solutions through innovation and entrepreneurship of its people . a corpus of rupees one lakh crore will be established with fifty-year interest free loan . this will encourage the private sector to scale up research and innovation significantly in sunrise domains . a new scheme will be launched for strengthening these are energy, mineral and cement corridors, port connectivity corridors and high traffic density corridors . aviation sector has been galvanized in the past ten years . number of airports have doubled to 149 . five hundred and seventeen new routes are carrying 1.3 crore passengers . Indian carriers have pro-actively plac ed orders for over 1000 n ew aircrafts . metro and NaMo Bharat can be the catalyst  ssed biogas (CBG) in compressed natural gas for transport and piped natural gas (PNG) for domestic purposes will be mandated . financial assistance will be provided for procurement of biomass aggregation machinery to support collection  a scheme for restoration and adaptation measures, and coastal aquaculture and mariculture with integrated a nd multi -sectoral approach will be launched . states will be encouraged to take up comprehensive development of iconic tourist centres, branding and the FDI inflow during 2014 -23 was USD 596 billion marking a golden era . the government is negotiating bilateral investment treaties with our foreign partners, in the spirit of ‘first develop India’ the committee will be mandated to make recommendations for addressing these challenges comprehensively in relation to the goal of ‘Viksit Bharat’ . our Government stands committed to strengthening and expanding the economy with high growth and to create conditions total receipts other than borrowings are estimated at  27.56 lakh crore . tax receipts are  23.24 lakh crore and total expenditure is  44.90 lakh crore respectively . revenue receipts at 30.03 fiscal deficit in 2024 -25 is estimated to be 5.1 per cent of GDP . borrowings through dated securities during 2024 are estimated at  14.13 and 11.75 lakh crore respectively . both will be less than that in 20 88. The Government has reduced and rationalized tax rates . under the new tax scheme, there is now no tax liability for tax payers with income up to  7 lakh, up from  2.2 lakh in the financial year 2013 94 per cent of industry leaders view transition to GST as largely positive . average processing time of returns has been reduced from 93 days in the year 2013 -14 to a mere ten days this year . octr hly gross GST collection has almost doubled to  1.66 lakh crore, this year . biggest beneficiaries are the consumers, as reduction in logistics costs and taxes have brought down prices of most goods and services . certain tax benefits to start -ups and investments made by sovereign wealth or pension funds are expiring on 31.03.2024 . to provide continuity in taxation, i propose to extend the date to 31.03.2 025 . economy – Then and Now 94 . exemplary track record of governance, develop ment and performance . government will lay a white paper on table of the house . 'Jan Kalyan' has given the Government trust, confidence and blessings of the people to realize the goal of 'Viksit Bharat' with good intentions, true dedication and hard work .\n"
     ]
    }
   ],
   "source": [
    "import io\n",
    "import requests\n",
    "from PyPDF2 import PdfReader\n",
    "from transformers import pipeline, AutoTokenizer, AutoModelForSeq2SeqLM\n",
    "\n",
    "url = \"https://www.indiabudget.gov.in/doc/budget_speech.pdf\"  # Link to the budget speech\n",
    "\n",
    "# Function to perform text summarization\n",
    "def summarize_text(input_text):\n",
    "    # Load the tokenizer and model, I am using the t5-base model from the Google T5 transformer models\n",
    "    # Load the tokenizer with model_max_length set to 512 to compensate the model's limits\n",
    "    tokenizer = AutoTokenizer.from_pretrained(\"t5-base\", model_max_length=512)\n",
    "    model = AutoModelForSeq2SeqLM.from_pretrained(\"t5-base\")\n",
    "\n",
    "    # Initialize the pipeline\n",
    "    summarizer = pipeline(\"summarization\", model=model, tokenizer=tokenizer)\n",
    "\n",
    "    # Generate summary\n",
    "    summary = summarizer(input_text, max_length=52, min_length=40, do_sample=False)[0]['summary_text']\n",
    "    return summary\n",
    "\n",
    "# Download the PDF file and read it with the help of PyPDF2\n",
    "response = requests.get(url)\n",
    "with io.BytesIO(response.content) as open_pdf_file:\n",
    "    read_pdf = PdfReader(open_pdf_file)\n",
    "    num_pages = len(read_pdf.pages)\n",
    "    text = \"\"\n",
    "    for page_number in range(num_pages):\n",
    "        text += read_pdf.pages[page_number].extract_text()\n",
    "\n",
    "# Perform text summarization in smaller chunks to make sure the words are in the capacity of the model\n",
    "chunk_size = 1024  # Adjust based on model tolerance and text complexity\n",
    "summaries = []\n",
    "for i in range(0, len(text), chunk_size):\n",
    "    chunk = text[i:i + chunk_size]\n",
    "    summary = summarize_text(chunk)\n",
    "    summaries.append(summary)\n",
    "\n",
    "final_summary = \" \".join(summaries)\n",
    "\n",
    "# Display the summary\n",
    "print(\"Generated Summary:\\n\", final_summary)"
   ]
  },
  {
   "cell_type": "markdown",
   "id": "1f18b85d",
   "metadata": {},
   "source": [
    "The following cell performs information extraction using the built-in re(Regular Expression) Module and taking the text from a website using web scrapping"
   ]
  },
  {
   "cell_type": "code",
   "execution_count": 3,
   "id": "286a8ff3",
   "metadata": {},
   "outputs": [
    {
     "name": "stdout",
     "output_type": "stream",
     "text": [
      "Numerical values extracted from the website: [0.3, 0.1, 0.4, 0.1, 0.3, 0.1, 0.4, 0.3, 0.5, 0.3, 0.1, 0.4, 0.3, 0.1, 0.7, 0.65, 0.6, 0.8, 0.66, 0.02, 0.3, 0.5, 0.1, 0.13, 0.75, 0.56, 0.24, 0.9, 0.03, 0.13, 0.75, 0.5, 0.4, 0.3, 0.4, 0.66, 0.22, 0.3, 0.1, 0.4, 0.1, 0.3, 0.1, 0.4, 0.3, 0.5, 0.3, 0.1, 0.4, 0.3, 0.1, 0.7, 0.65, 0.6, 0.8, 0.66, 0.02, 0.3, 0.5, 0.1, 0.13, 0.75, 0.56, 0.24, 0.9, 0.03, 0.13, 0.75, 0.5, 0.4, 0.3, 0.4, 0.66, 0.22]\n"
     ]
    }
   ],
   "source": [
    "import requests\n",
    "from bs4 import BeautifulSoup\n",
    "import re\n",
    "\n",
    "def extract_numerical_information_from_website(url):\n",
    "    # Send a GET request to the URL\n",
    "    response = requests.get(url)\n",
    "    \n",
    "    # Check if the request was successful\n",
    "    if response.status_code == 200:\n",
    "        # Parse the HTML content of the webpage\n",
    "        soup = BeautifulSoup(response.content, 'html.parser')\n",
    "        \n",
    "        # Extract text from webpage\n",
    "        text = soup.get_text()\n",
    "        \n",
    "        # Regular expression pattern to match numerical values (both int and float)\n",
    "        numerical_pattern = r'\\d+(\\.\\d+)?'  \n",
    "        \n",
    "        # Finding all numerical values in the text\n",
    "        numerical_values = re.findall(numerical_pattern, text)\n",
    "        \n",
    "        # Filtering out empty strings\n",
    "        numerical_values = [value for value in numerical_values if value.strip()]\n",
    "        \n",
    "        # Converting strings to numerical values\n",
    "        numerical_values = [float(value) if '.' in value else int(value) for value in numerical_values]\n",
    "        \n",
    "        return numerical_values\n",
    "    else:\n",
    "        # Printing an error message if the request was not successful\n",
    "        print(\"Error: Unable to fetch webpage\")\n",
    "\n",
    "# Official PIB Summary \n",
    "url = 'https://pib.gov.in/PressReleaseIframePage.aspx?PRID=2001136'\n",
    "\n",
    "# Extracting all the numerical information from the website\n",
    "numerical_values = extract_numerical_information_from_website(url)\n",
    "\n",
    "# Print the extracted numerical values\n",
    "if numerical_values:\n",
    "    print(\"Numerical values extracted from the website:\", numerical_values)"
   ]
  },
  {
   "cell_type": "markdown",
   "id": "77eb20f3",
   "metadata": {},
   "source": [
    "In the next cell I have tried Sentiment Analysis in case of polarity 1 means positive text while -1 means a negative statement, the subjectivity is a float value within the range [0.0, 1.0] where 0.0 is very objective and 1.0 is very subjective"
   ]
  },
  {
   "cell_type": "code",
   "execution_count": 4,
   "id": "4a8a5dc5",
   "metadata": {},
   "outputs": [
    {
     "data": {
      "text/plain": [
       "Sentiment(polarity=-0.48750000000000004, subjectivity=0.52)"
      ]
     },
     "execution_count": 4,
     "metadata": {},
     "output_type": "execute_result"
    }
   ],
   "source": [
    "from textblob import TextBlob\n",
    "from textblob.sentiments import NaiveBayesAnalyzer,PatternAnalyzer\n",
    "\n",
    "text = \"This is a very negative text about you!\"\n",
    "\n",
    "TextBlob(text, analyzer = PatternAnalyzer()).sentiment"
   ]
  }
 ],
 "metadata": {
  "kernelspec": {
   "display_name": "Python 3 (ipykernel)",
   "language": "python",
   "name": "python3"
  },
  "language_info": {
   "codemirror_mode": {
    "name": "ipython",
    "version": 3
   },
   "file_extension": ".py",
   "mimetype": "text/x-python",
   "name": "python",
   "nbconvert_exporter": "python",
   "pygments_lexer": "ipython3",
   "version": "3.10.9"
  }
 },
 "nbformat": 4,
 "nbformat_minor": 5
}
