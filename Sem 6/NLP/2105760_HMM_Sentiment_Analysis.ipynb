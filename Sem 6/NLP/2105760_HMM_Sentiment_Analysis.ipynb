{
 "cells": [
  {
   "cell_type": "code",
   "execution_count": 2,
   "id": "790ab8e0",
   "metadata": {},
   "outputs": [
    {
     "name": "stdout",
     "output_type": "stream",
     "text": [
      "Collecting hmmlearn\n",
      "  Downloading hmmlearn-0.3.2-cp311-cp311-win_amd64.whl.metadata (3.0 kB)\n",
      "Requirement already satisfied: numpy>=1.10 in c:\\users\\kiit\\anaconda3\\lib\\site-packages (from hmmlearn) (1.24.3)\n",
      "Requirement already satisfied: scikit-learn!=0.22.0,>=0.16 in c:\\users\\kiit\\anaconda3\\lib\\site-packages (from hmmlearn) (1.3.0)\n",
      "Requirement already satisfied: scipy>=0.19 in c:\\users\\kiit\\anaconda3\\lib\\site-packages (from hmmlearn) (1.11.1)\n",
      "Requirement already satisfied: joblib>=1.1.1 in c:\\users\\kiit\\anaconda3\\lib\\site-packages (from scikit-learn!=0.22.0,>=0.16->hmmlearn) (1.2.0)\n",
      "Requirement already satisfied: threadpoolctl>=2.0.0 in c:\\users\\kiit\\anaconda3\\lib\\site-packages (from scikit-learn!=0.22.0,>=0.16->hmmlearn) (2.2.0)\n",
      "Downloading hmmlearn-0.3.2-cp311-cp311-win_amd64.whl (125 kB)\n",
      "   ---------------------------------------- 0.0/125.4 kB ? eta -:--:--\n",
      "   ---------------------------------------- 0.0/125.4 kB ? eta -:--:--\n",
      "   --- ------------------------------------ 10.2/125.4 kB ? eta -:--:--\n",
      "   --------- ----------------------------- 30.7/125.4 kB 330.3 kB/s eta 0:00:01\n",
      "   ------------------- ------------------- 61.4/125.4 kB 409.6 kB/s eta 0:00:01\n",
      "   -------------------------------------  122.9/125.4 kB 658.7 kB/s eta 0:00:01\n",
      "   -------------------------------------- 125.4/125.4 kB 615.7 kB/s eta 0:00:00\n",
      "Installing collected packages: hmmlearn\n",
      "Successfully installed hmmlearn-0.3.2\n",
      "Note: you may need to restart the kernel to use updated packages.\n"
     ]
    }
   ],
   "source": [
    "pip install hmmlearn"
   ]
  },
  {
   "cell_type": "code",
   "execution_count": 53,
   "id": "7f510e01",
   "metadata": {},
   "outputs": [
    {
     "name": "stderr",
     "output_type": "stream",
     "text": [
      "Fitting a model with 7 free scalar parameters with only 5 data points will result in a degenerate solution.\n",
      "C:\\Users\\KIIT\\anaconda3\\Lib\\site-packages\\sklearn\\cluster\\_kmeans.py:1436: UserWarning: KMeans is known to have a memory leak on Windows with MKL, when there are less chunks than available threads. You can avoid it by setting the environment variable OMP_NUM_THREADS=1.\n",
      "  warnings.warn(\n"
     ]
    },
    {
     "name": "stdout",
     "output_type": "stream",
     "text": [
      "Positive sentiment\n"
     ]
    }
   ],
   "source": [
    "import numpy as np\n",
    "from hmmlearn import hmm\n",
    "\n",
    "# Sample data (replace with your actual reviews)\n",
    "reviews = [\n",
    "    \"I love this product!\",\n",
    "    \"Great service!\",\n",
    "    \"Terrible experience.\",\n",
    "    \"Waste of money.\",\n",
    "    \"Highly recommended!\",\n",
    "    \"Disappointed.\"\n",
    "]\n",
    "\n",
    "# Convert reviews to numerical representation (e.g., bag-of-words)\n",
    "# You can use libraries like scikit-learn for feature extraction\n",
    "\n",
    "# Reshape the data to a 2D column vector\n",
    "X = np.array([1, 1, 0, -1, -1])  # Example: Sentiment labels (1 for positive, -1 for negative)\n",
    "\n",
    "# Initialize the HMM model\n",
    "n_components = 2  # Positive and negative sentiment\n",
    "model = hmm.GaussianHMM(n_components=n_components, n_iter=100)\n",
    "\n",
    "# Train the model\n",
    "model.fit(X.reshape(-1, 1))\n",
    "\n",
    "# Example prediction for a new review\n",
    "new_review = \"Terrible customer support!\"\n",
    "new_observation = np.array([1]).reshape(-1, 1)  # Convert the new review to numerical representation\n",
    "predicted_label = model.predict(new_observation)\n",
    "\n",
    "\n",
    "if predicted_label == 1:\n",
    "    \n",
    "    \n",
    "    print(\"Positive sentiment\")\n",
    "else:\n",
    "    print(\"Negative sentiment\")\n"
   ]
  }
 ],
 "metadata": {
  "kernelspec": {
   "display_name": "Python 3 (ipykernel)",
   "language": "python",
   "name": "python3"
  },
  "language_info": {
   "codemirror_mode": {
    "name": "ipython",
    "version": 3
   },
   "file_extension": ".py",
   "mimetype": "text/x-python",
   "name": "python",
   "nbconvert_exporter": "python",
   "pygments_lexer": "ipython3",
   "version": "3.11.5"
  }
 },
 "nbformat": 4,
 "nbformat_minor": 5
}
